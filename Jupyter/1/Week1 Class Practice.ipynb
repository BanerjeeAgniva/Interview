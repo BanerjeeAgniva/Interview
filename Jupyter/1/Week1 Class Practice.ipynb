{
 "cells": [
  {
   "cell_type": "markdown",
   "id": "7f0767e9",
   "metadata": {},
   "source": [
    "## Getting Started with Python, Numpy and Pandas"
   ]
  },
  {
   "cell_type": "markdown",
   "id": "e252f697",
   "metadata": {},
   "source": [
    "Python is an interpretive language.  \n",
    "Python is a strongly-typed and dynamically-typed language.  \n",
    "*Strongly-typed*: Interpreter always “respects” the types of each variable.  \n",
    "*Dynamically-typed*: A variable is simply a value bound to a name."
   ]
  },
  {
   "cell_type": "markdown",
   "id": "3726157a",
   "metadata": {},
   "source": [
    "### Primitive Types\n",
    "- integer\n",
    "- float\n",
    "- bool\n",
    "- string"
   ]
  },
  {
   "cell_type": "code",
   "execution_count": 1,
   "id": "69ade83c",
   "metadata": {},
   "outputs": [
    {
     "name": "stdout",
     "output_type": "stream",
     "text": [
      "5 5.2 True A String \n",
      "A \n",
      "multi-line\n",
      "String\n",
      "\n"
     ]
    }
   ],
   "source": [
    "A = 5\n",
    "B = 5.2\n",
    "C = \"True\"\n",
    "D = \"A String\"\n",
    "E = '''\n",
    "A \n",
    "multi-line\n",
    "String\n",
    "'''\n",
    "print (A, B, C, D, E)"
   ]
  },
  {
   "cell_type": "markdown",
   "id": "18d82482",
   "metadata": {},
   "source": [
    "### Dynamically Typed"
   ]
  },
  {
   "cell_type": "code",
   "execution_count": 2,
   "id": "a6453c2f",
   "metadata": {},
   "outputs": [
    {
     "name": "stdout",
     "output_type": "stream",
     "text": [
      "type of variable x: <class 'int'>\n",
      "x =  5\n",
      "type of variable x: <class 'str'>\n",
      "x =  BITS Pilani\n",
      "type of variable x: <class 'float'>\n",
      "x =  5.2\n"
     ]
    }
   ],
   "source": [
    "x = 5\n",
    "print (\"type of variable x:\",type(x))\n",
    "print(\"x = \",x)\n",
    "\n",
    "x = \"BITS Pilani\"\n",
    "print(\"type of variable x:\",type(x))\n",
    "print(\"x = \",x)\n",
    "\n",
    "x = 5.2\n",
    "print(\"type of variable x:\",type(x))\n",
    "print(\"x = \",x)"
   ]
  },
  {
   "cell_type": "markdown",
   "id": "a0383491",
   "metadata": {},
   "source": [
    "### Strongly Typed"
   ]
  },
  {
   "cell_type": "code",
   "execution_count": 3,
   "id": "76c12693",
   "metadata": {},
   "outputs": [
    {
     "ename": "TypeError",
     "evalue": "can't multiply sequence by non-int of type 'float'",
     "output_type": "error",
     "traceback": [
      "\u001b[0;31m---------------------------------------------------------------------------\u001b[0m",
      "\u001b[0;31mTypeError\u001b[0m                                 Traceback (most recent call last)",
      "Cell \u001b[0;32mIn[3], line 3\u001b[0m\n\u001b[1;32m      1\u001b[0m a \u001b[38;5;241m=\u001b[39m \u001b[38;5;241m5.2\u001b[39m\n\u001b[1;32m      2\u001b[0m x \u001b[38;5;241m=\u001b[39m \u001b[38;5;124m\"\u001b[39m\u001b[38;5;124mA String \u001b[39m\u001b[38;5;124m\"\u001b[39m\n\u001b[0;32m----> 3\u001b[0m \u001b[43ma\u001b[49m\u001b[43m \u001b[49m\u001b[38;5;241;43m*\u001b[39;49m\u001b[43m \u001b[49m\u001b[43mx\u001b[49m\n",
      "\u001b[0;31mTypeError\u001b[0m: can't multiply sequence by non-int of type 'float'"
     ]
    }
   ],
   "source": [
    "a = 5.2\n",
    "x = \"A String \"\n",
    "a * x"
   ]
  },
  {
   "cell_type": "code",
   "execution_count": null,
   "id": "89de8fcd",
   "metadata": {},
   "outputs": [],
   "source": [
    "b = 5\n",
    "b+y"
   ]
  },
  {
   "cell_type": "markdown",
   "id": "764bd6f0",
   "metadata": {},
   "source": [
    "#### String Facts: Addition of strings"
   ]
  },
  {
   "cell_type": "code",
   "execution_count": 4,
   "id": "2825df9f",
   "metadata": {},
   "outputs": [
    {
     "data": {
      "text/plain": [
       "'BITS-Pilani Hyderabad Campus'"
      ]
     },
     "execution_count": 4,
     "metadata": {},
     "output_type": "execute_result"
    }
   ],
   "source": [
    "\"BITS-Pilani \"+\"Hyderabad Campus\" # Conctenation"
   ]
  },
  {
   "cell_type": "markdown",
   "id": "e3db5030",
   "metadata": {},
   "source": [
    "#### String Facts: <u>product of string with integer</u>"
   ]
  },
  {
   "cell_type": "code",
   "execution_count": 5,
   "id": "27daf2a7",
   "metadata": {},
   "outputs": [
    {
     "ename": "NameError",
     "evalue": "name 'b' is not defined",
     "output_type": "error",
     "traceback": [
      "\u001b[0;31m---------------------------------------------------------------------------\u001b[0m",
      "\u001b[0;31mNameError\u001b[0m                                 Traceback (most recent call last)",
      "Cell \u001b[0;32mIn[5], line 1\u001b[0m\n\u001b[0;32m----> 1\u001b[0m \u001b[43mb\u001b[49m\u001b[38;5;241m*\u001b[39my\n",
      "\u001b[0;31mNameError\u001b[0m: name 'b' is not defined"
     ]
    }
   ],
   "source": [
    "b*y"
   ]
  },
  {
   "cell_type": "markdown",
   "id": "c1762f31",
   "metadata": {},
   "source": [
    "#### String Facts: <u>f-string</u> (formatted string). Allows expression evaluation inside the string."
   ]
  },
  {
   "cell_type": "code",
   "execution_count": 6,
   "id": "d959b45b",
   "metadata": {},
   "outputs": [
    {
     "ename": "NameError",
     "evalue": "name 'b' is not defined",
     "output_type": "error",
     "traceback": [
      "\u001b[0;31m---------------------------------------------------------------------------\u001b[0m",
      "\u001b[0;31mNameError\u001b[0m                                 Traceback (most recent call last)",
      "Cell \u001b[0;32mIn[6], line 1\u001b[0m\n\u001b[0;32m----> 1\u001b[0m z \u001b[38;5;241m=\u001b[39m \u001b[38;5;124mf\u001b[39m\u001b[38;5;124m'\u001b[39m\u001b[38;5;124mValue of b*y: \u001b[39m\u001b[38;5;132;01m{\u001b[39;00m\u001b[43mb\u001b[49m\u001b[38;5;241m*\u001b[39my\u001b[38;5;132;01m}\u001b[39;00m\u001b[38;5;124m'\u001b[39m\n\u001b[1;32m      2\u001b[0m \u001b[38;5;28mprint\u001b[39m (z)\n",
      "\u001b[0;31mNameError\u001b[0m: name 'b' is not defined"
     ]
    }
   ],
   "source": [
    "z = f'Value of b*y: {b*y}'\n",
    "print (z)"
   ]
  },
  {
   "cell_type": "markdown",
   "id": "1dc1b666",
   "metadata": {},
   "source": [
    "#### String Facts: <u>r-string</u> (raw string). Allows expression with escape sequences"
   ]
  },
  {
   "cell_type": "code",
   "execution_count": 7,
   "id": "846f3b40",
   "metadata": {},
   "outputs": [
    {
     "name": "stdout",
     "output_type": "stream",
     "text": [
      "The course name:\tCS F441\n",
      "The course name:\\tCS F441\n"
     ]
    }
   ],
   "source": [
    "z = 'The course name:\\tCS F441'\n",
    "print(z)\n",
    "z = r'The course name:\\tCS F441'\n",
    "print(z)"
   ]
  },
  {
   "cell_type": "markdown",
   "id": "6b3b7b01",
   "metadata": {},
   "source": [
    "#### Booleans and Boolean Factos"
   ]
  },
  {
   "cell_type": "code",
   "execution_count": 8,
   "id": "5b2297db",
   "metadata": {},
   "outputs": [
    {
     "name": "stdout",
     "output_type": "stream",
     "text": [
      "True\n",
      "False\n"
     ]
    }
   ],
   "source": [
    "a = True\n",
    "print(a)\n",
    "b = False\n",
    "print(b)"
   ]
  },
  {
   "cell_type": "markdown",
   "id": "eca4ba04",
   "metadata": {},
   "source": [
    "#### <u>True is 1</u> and <u>False is 0</u> in float/integer arithmetic and when multiplied with String"
   ]
  },
  {
   "cell_type": "code",
   "execution_count": 9,
   "id": "98ac6c89",
   "metadata": {},
   "outputs": [
    {
     "data": {
      "text/plain": [
       "100"
      ]
     },
     "execution_count": 9,
     "metadata": {},
     "output_type": "execute_result"
    }
   ],
   "source": [
    "True*100"
   ]
  },
  {
   "cell_type": "code",
   "execution_count": 10,
   "id": "a346e4b2",
   "metadata": {},
   "outputs": [
    {
     "data": {
      "text/plain": [
       "0.0"
      ]
     },
     "execution_count": 10,
     "metadata": {},
     "output_type": "execute_result"
    }
   ],
   "source": [
    "False*100.2"
   ]
  },
  {
   "cell_type": "code",
   "execution_count": 11,
   "id": "ae2f82ae",
   "metadata": {},
   "outputs": [
    {
     "data": {
      "text/plain": [
       "'String'"
      ]
     },
     "execution_count": 11,
     "metadata": {},
     "output_type": "execute_result"
    }
   ],
   "source": [
    "True*\"String\""
   ]
  },
  {
   "cell_type": "code",
   "execution_count": 12,
   "id": "dc8f0043",
   "metadata": {},
   "outputs": [
    {
     "data": {
      "text/plain": [
       "''"
      ]
     },
     "execution_count": 12,
     "metadata": {},
     "output_type": "execute_result"
    }
   ],
   "source": [
    "False*\"String\""
   ]
  },
  {
   "cell_type": "markdown",
   "id": "e8e6e637",
   "metadata": {},
   "source": [
    "### Comments and Multiline Comments"
   ]
  },
  {
   "cell_type": "code",
   "execution_count": 13,
   "id": "1c33195c",
   "metadata": {},
   "outputs": [
    {
     "data": {
      "text/plain": [
       "'\\na = True\\nprint(a)\\nb = False\\nprint(b)\\n'"
      ]
     },
     "execution_count": 13,
     "metadata": {},
     "output_type": "execute_result"
    }
   ],
   "source": [
    "# A comment\n",
    "# There is no multiline commentin Python\n",
    "# But Triple quotes may be used for multi-line comments.\n",
    "\n",
    "\"\"\"\n",
    "a = True\n",
    "print(a)\n",
    "b = False\n",
    "print(b)\n",
    "\"\"\""
   ]
  },
  {
   "cell_type": "markdown",
   "id": "32053e7c",
   "metadata": {},
   "source": [
    "### Type casting\n",
    "- int()\n",
    "- float()\n",
    "- str()\n",
    "- bool()"
   ]
  },
  {
   "cell_type": "markdown",
   "id": "f8413c1d",
   "metadata": {},
   "source": [
    "print(int(5.2))\n",
    "print(int(\"5\"))\n",
    "print(float(5))\n",
    "print(float(\"5.2\"))\n",
    "print(bool(0))\n",
    "print(bool(5.2))\n",
    "print(bool(\"A string\"))\n",
    "print(bool(\"\"))"
   ]
  },
  {
   "cell_type": "markdown",
   "id": "9ba07b0a",
   "metadata": {},
   "source": [
    "### Collection Types\n",
    "- Lists\n",
    "- Tuple\n",
    "- Dictionary\n",
    "- Set"
   ]
  },
  {
   "cell_type": "markdown",
   "id": "1007a910",
   "metadata": {},
   "source": [
    "#### Lists are mutable (changeable) arrays\n",
    "Ex: names = [‘Zach’, ‘Jay’]   # note the square bracket.  \n",
    "Indexing to access of individual \n"
   ]
  },
  {
   "cell_type": "code",
   "execution_count": 14,
   "id": "8a4d48a2",
   "metadata": {},
   "outputs": [
    {
     "name": "stdout",
     "output_type": "stream",
     "text": [
      "Jack\n",
      "['Jack', 'Jill']\n",
      "None\n",
      "2\n",
      "['Jack', 'John']\n",
      "0\n"
     ]
    }
   ],
   "source": [
    "names = ['Jack', 'Jill']\n",
    "print(names[0])\n",
    "\n",
    "print(print (names))\n",
    "\n",
    "print(len(names))\n",
    "\n",
    "names[1] = \"John\"\n",
    "print(names)\n",
    "\n",
    "emptyList = [] #or list()\n",
    "print(len(emptyList))"
   ]
  },
  {
   "cell_type": "markdown",
   "id": "a0822a24",
   "metadata": {},
   "source": [
    "##### Extend list"
   ]
  },
  {
   "cell_type": "code",
   "execution_count": 15,
   "id": "436aaaa0",
   "metadata": {},
   "outputs": [
    {
     "name": "stdout",
     "output_type": "stream",
     "text": [
      "['Jack', 'Jill', 'Rick']\n",
      "['Jack', 'Jill', 'Rick', 'Kevin', 'Adrian']\n"
     ]
    }
   ],
   "source": [
    "names = ['Jack', 'Jill']\n",
    "names.append('Rick')\n",
    "len(names)\n",
    "print (names)\n",
    "\n",
    "names.extend(['Kevin', 'Adrian'])\n",
    "print (names)"
   ]
  },
  {
   "cell_type": "code",
   "execution_count": 16,
   "id": "36fbaec9",
   "metadata": {},
   "outputs": [
    {
     "name": "stdout",
     "output_type": "stream",
     "text": [
      "['Jack', 'Jill', 'Kevin', 'Adrian']\n"
     ]
    }
   ],
   "source": [
    "eNames = ['Jack', 'Jill'] + ['Kevin', 'Adrian']\n",
    "print(eNames)"
   ]
  },
  {
   "cell_type": "markdown",
   "id": "0a6d9714",
   "metadata": {},
   "source": [
    "#### Tuples are an ordered collection, immutable (unchangeable) \n",
    "Element access is by indexing, like in list.\n"
   ]
  },
  {
   "cell_type": "code",
   "execution_count": 17,
   "id": "6eb4da5d",
   "metadata": {},
   "outputs": [
    {
     "name": "stdout",
     "output_type": "stream",
     "text": [
      "2.0 5.0\n",
      "3\n"
     ]
    }
   ],
   "source": [
    "coordinates = (2., 5., 1.)     # Note the parenthesis or round brackets.\n",
    "\n",
    "print(coordinates[0], coordinates[1])\n",
    "print(len(coordinates))"
   ]
  },
  {
   "cell_type": "code",
   "execution_count": 18,
   "id": "84041927",
   "metadata": {},
   "outputs": [
    {
     "name": "stdout",
     "output_type": "stream",
     "text": [
      "()\n",
      "(1.5,)\n"
     ]
    }
   ],
   "source": [
    "emptyTuple = () #tuple()\n",
    "print(emptyTuple)\n",
    "oneElemTuple = (1.5, )   #Comma matters!\n",
    "print(oneElemTuple)"
   ]
  },
  {
   "cell_type": "code",
   "execution_count": 19,
   "id": "65ccb7b7",
   "metadata": {},
   "outputs": [
    {
     "ename": "TypeError",
     "evalue": "'tuple' object does not support item assignment",
     "output_type": "error",
     "traceback": [
      "\u001b[0;31m---------------------------------------------------------------------------\u001b[0m",
      "\u001b[0;31mTypeError\u001b[0m                                 Traceback (most recent call last)",
      "Cell \u001b[0;32mIn[19], line 1\u001b[0m\n\u001b[0;32m----> 1\u001b[0m \u001b[43mcoordinates\u001b[49m\u001b[43m[\u001b[49m\u001b[38;5;241;43m0\u001b[39;49m\u001b[43m]\u001b[49m \u001b[38;5;241m=\u001b[39m\u001b[38;5;241m3\u001b[39m\n",
      "\u001b[0;31mTypeError\u001b[0m: 'tuple' object does not support item assignment"
     ]
    }
   ],
   "source": [
    "coordinates[0] =3"
   ]
  },
  {
   "cell_type": "markdown",
   "id": "f7c3d882",
   "metadata": {},
   "source": [
    "#### Dictionary: an unordered list with key-value pairs.\n",
    "Elements access is using key as the index."
   ]
  },
  {
   "cell_type": "code",
   "execution_count": 20,
   "id": "d816f789",
   "metadata": {},
   "outputs": [
    {
     "name": "stdout",
     "output_type": "stream",
     "text": [
      "{'number': 'CS F441', 'name': 'Data Visualization', 'classSize': 62}\n",
      "CS F441\n"
     ]
    }
   ],
   "source": [
    "course = { \n",
    "    \"number\" :  \"CS F441\", \n",
    "    \"name\": \"Data Visualization\",\n",
    "    \"classSize\": 62\n",
    "}\n",
    "print (course)\n",
    "print (course[\"number\"])"
   ]
  },
  {
   "cell_type": "markdown",
   "id": "c05d8dba",
   "metadata": {},
   "source": [
    "##### Dictionary Methods\n",
    "- keys()\n",
    "- values()\n",
    "- items()"
   ]
  },
  {
   "cell_type": "code",
   "execution_count": 21,
   "id": "56d755cd",
   "metadata": {},
   "outputs": [
    {
     "name": "stdout",
     "output_type": "stream",
     "text": [
      "dict_keys(['number', 'name', 'classSize'])\n",
      "dict_values(['CS F441', 'Data Visualization', 62])\n",
      "dict_items([('number', 'CS F441'), ('name', 'Data Visualization'), ('classSize', 62)])\n"
     ]
    }
   ],
   "source": [
    "print(course.keys())\n",
    "\n",
    "print(course.values())\n",
    "\n",
    "print(course.items())"
   ]
  },
  {
   "cell_type": "markdown",
   "id": "fce9feec",
   "metadata": {},
   "source": [
    "#### Sets: An unordered, and unindexed collection."
   ]
  },
  {
   "cell_type": "code",
   "execution_count": 22,
   "id": "a6aaa449",
   "metadata": {},
   "outputs": [
    {
     "name": "stdout",
     "output_type": "stream",
     "text": [
      "{'apple', 'cherry', 'banana'}\n",
      "{'apple', 'cherry', 'banana'}\n"
     ]
    }
   ],
   "source": [
    "thisset = {\"apple\", \"banana\", \"cherry\"}\n",
    "print(thisset)\n",
    "\n",
    "# No duplicate items: Set items are unique\n",
    "thisset = {\"apple\", \"banana\", \"cherry\", \"apple\"}\n",
    "print(thisset)"
   ]
  },
  {
   "cell_type": "markdown",
   "id": "733d0ff9",
   "metadata": {},
   "source": [
    "##### Set Membership"
   ]
  },
  {
   "cell_type": "code",
   "execution_count": 23,
   "id": "ce4d7cca",
   "metadata": {},
   "outputs": [
    {
     "name": "stdout",
     "output_type": "stream",
     "text": [
      "True\n",
      "False\n",
      "True\n"
     ]
    }
   ],
   "source": [
    "print(\"banana\" in thisset)\n",
    "\n",
    "print(\"pineapple\" in thisset)\n",
    "\n",
    "thisset.add(\"pineapple\")\n",
    "\n",
    "print(\"pineapple\" in thisset)\n",
    "\n",
    "#Allows union, intersection,difference, ...\n"
   ]
  },
  {
   "cell_type": "markdown",
   "id": "41e75777",
   "metadata": {},
   "source": [
    "### Additional Collections via External Packages\n",
    "- numpy\n",
    "- pandas\n",
    "\n",
    "Note: the packages are not natively available with python. Must be installed independently prior to importing.\n",
    "    \n",
    "pip install numpy  \n",
    "pip install pandas  \n",
    "\n",
    "They must be imported into your code\n",
    "- import numpy\n",
    "- import pandas\n",
    "\n",
    "Sometimes the package names may shortened for convenience of typing\n",
    "- import numpy as np\n",
    "- import pandas as pd"
   ]
  },
  {
   "cell_type": "markdown",
   "id": "3c88ec72",
   "metadata": {},
   "source": [
    "#### numpy: a Python package used for working with arrays.\n",
    "Difference between list and numpy.array:\n",
    "- numpy.array are non-extendable\n",
    "- elements are of the same type\n",
    "- Occupies continuous memory\n",
    "- efficient"
   ]
  },
  {
   "cell_type": "code",
   "execution_count": 24,
   "id": "884d76fe",
   "metadata": {},
   "outputs": [
    {
     "name": "stdout",
     "output_type": "stream",
     "text": [
      "[1 5 3 4 5]\n",
      "1\n"
     ]
    }
   ],
   "source": [
    "import numpy as np\n",
    "A = [1, 5, 3, 4, 5]\n",
    "nA = np.array(A)\n",
    "print(nA)\n",
    "print(nA[0])"
   ]
  },
  {
   "cell_type": "code",
   "execution_count": 25,
   "id": "cea94dc3",
   "metadata": {},
   "outputs": [
    {
     "name": "stdout",
     "output_type": "stream",
     "text": [
      "[1, 5, 3, 4, 5, 10]\n"
     ]
    }
   ],
   "source": [
    "A.append(10)\n",
    "print(A)"
   ]
  },
  {
   "cell_type": "code",
   "execution_count": 26,
   "id": "c77d2c54",
   "metadata": {},
   "outputs": [
    {
     "data": {
      "text/plain": [
       "array([ 1,  5,  3,  4,  5, 10])"
      ]
     },
     "execution_count": 26,
     "metadata": {},
     "output_type": "execute_result"
    }
   ],
   "source": [
    "nA = np.append(nA, 10)\n",
    "nA"
   ]
  },
  {
   "cell_type": "code",
   "execution_count": 27,
   "id": "03b880d3",
   "metadata": {},
   "outputs": [
    {
     "ename": "TypeError",
     "evalue": "can only concatenate list (not \"int\") to list",
     "output_type": "error",
     "traceback": [
      "\u001b[0;31m---------------------------------------------------------------------------\u001b[0m",
      "\u001b[0;31mTypeError\u001b[0m                                 Traceback (most recent call last)",
      "Cell \u001b[0;32mIn[27], line 1\u001b[0m\n\u001b[0;32m----> 1\u001b[0m \u001b[43mA\u001b[49m\u001b[38;5;241;43m+\u001b[39;49m\u001b[38;5;241;43m5\u001b[39;49m\n",
      "\u001b[0;31mTypeError\u001b[0m: can only concatenate list (not \"int\") to list"
     ]
    }
   ],
   "source": [
    "A+5"
   ]
  },
  {
   "cell_type": "code",
   "execution_count": 28,
   "id": "15fefdd2",
   "metadata": {},
   "outputs": [
    {
     "name": "stdout",
     "output_type": "stream",
     "text": [
      "[ 6 10  8  9 10 15]\n"
     ]
    }
   ],
   "source": [
    "print(nA+5)"
   ]
  },
  {
   "cell_type": "code",
   "execution_count": 29,
   "id": "66154c06",
   "metadata": {},
   "outputs": [
    {
     "name": "stdout",
     "output_type": "stream",
     "text": [
      "[ 1  5  3  4  5 10]\n"
     ]
    }
   ],
   "source": [
    "print(nA)"
   ]
  },
  {
   "cell_type": "markdown",
   "id": "7a9a6f46",
   "metadata": {},
   "source": [
    "##### Numpy offers random module to work with numbers"
   ]
  },
  {
   "cell_type": "code",
   "execution_count": 30,
   "id": "97e15b40",
   "metadata": {},
   "outputs": [
    {
     "name": "stdout",
     "output_type": "stream",
     "text": [
      "74\n",
      "[82 67 22  3  9]\n",
      "0.9195169239723716\n",
      "[0.93150403 0.57639221 0.72905369 0.53030277 0.04595133]\n"
     ]
    }
   ],
   "source": [
    "from numpy import random\n",
    "print(random.randint(100)) # integer random number in the range [0, 100)\n",
    "\n",
    "print(random.randint(100, size=(5))) # integer random 1D array of size 5\n",
    "\n",
    "print (random.rand())   # float random number in the range [0, 1)\n",
    "\n",
    "print(random.rand(5))   # float random array of size 5"
   ]
  },
  {
   "cell_type": "code",
   "execution_count": 31,
   "id": "6f30c136",
   "metadata": {},
   "outputs": [
    {
     "name": "stdout",
     "output_type": "stream",
     "text": [
      "[0.30226897 0.95290438 1.06575775 1.12433536 1.38516802]\n",
      "[ 0.15845311  2.29846682 -0.79955452  0.61740633  2.85902235]\n",
      "[7 5 7 3 5]\n",
      "[1 3 5 2 4]\n"
     ]
    }
   ],
   "source": [
    "print(random.uniform(low=0,high=2,size=5)) # uniform distribution in [0,2)\n",
    "\n",
    "print(random.normal(loc=0,scale = 1, size = 5)) # normal distribution  loc is the mean and scale is the standard deviation\n",
    "\n",
    "print( random.choice([3, 5, 7, 9], p=[0.1, 0.3, 0.6, 0.0], size=5))\n",
    "\n",
    "print(random.permutation([1,2,3,4,5]))"
   ]
  },
  {
   "cell_type": "code",
   "execution_count": 32,
   "id": "fa36a962",
   "metadata": {},
   "outputs": [
    {
     "data": {
      "text/plain": [
       "0.837921694831572"
      ]
     },
     "execution_count": 32,
     "metadata": {},
     "output_type": "execute_result"
    }
   ],
   "source": [
    "random.uniform()"
   ]
  },
  {
   "cell_type": "markdown",
   "id": "1115da86",
   "metadata": {},
   "source": [
    "### Pandas: a Python library used for working with data sets.\n",
    "Pandas stands for Panel data (tabular data).  \n",
    "It has functions for analyzing, cleaning, exploring, and manipulating data.  \n",
    "It is used for a wide range of data analysis tasks, such as data cleaning, transformation, exploration, and more. \n",
    "\n",
    "Pandas provides data structures called DataFrame (a two-dimensional table-like data structure, like 2D array, or a table with rows and columns), and\n",
    "Series (a one-dimensional labeled array) that make it easier to work with and analyze data in Python."
   ]
  },
  {
   "cell_type": "code",
   "execution_count": 33,
   "id": "3f44abae",
   "metadata": {},
   "outputs": [],
   "source": [
    "import pandas as pd\n",
    "\n",
    "student1 = {\n",
    " \"courses\": [\"F441\", \"F311\"],\n",
    " \"grades\": [\"A\", \"B+\"]\n",
    "}\n",
    "\n",
    "df = pd.DataFrame(student1)"
   ]
  },
  {
   "cell_type": "code",
   "execution_count": 34,
   "id": "afcdb8b2",
   "metadata": {},
   "outputs": [
    {
     "name": "stdout",
     "output_type": "stream",
     "text": [
      "{'courses': ['F441', 'F311'], 'grades': ['A', 'B+']}\n"
     ]
    }
   ],
   "source": [
    "print(student1)"
   ]
  },
  {
   "cell_type": "code",
   "execution_count": 35,
   "id": "378496c5",
   "metadata": {},
   "outputs": [
    {
     "name": "stdout",
     "output_type": "stream",
     "text": [
      "  courses grades\n",
      "0    F441      A\n",
      "1    F311     B+\n"
     ]
    }
   ],
   "source": [
    "print(df)"
   ]
  },
  {
   "cell_type": "code",
   "execution_count": 36,
   "id": "fdf51663",
   "metadata": {},
   "outputs": [
    {
     "name": "stdout",
     "output_type": "stream",
     "text": [
      "<class 'pandas.core.frame.DataFrame'>\n",
      "RangeIndex: 2 entries, 0 to 1\n",
      "Data columns (total 2 columns):\n",
      " #   Column   Non-Null Count  Dtype \n",
      "---  ------   --------------  ----- \n",
      " 0   courses  2 non-null      object\n",
      " 1   grades   2 non-null      object\n",
      "dtypes: object(2)\n",
      "memory usage: 164.0+ bytes\n"
     ]
    }
   ],
   "source": [
    "df.info()"
   ]
  },
  {
   "cell_type": "code",
   "execution_count": 37,
   "id": "79c89341",
   "metadata": {},
   "outputs": [
    {
     "data": {
      "text/plain": [
       "Index(['courses', 'grades'], dtype='object')"
      ]
     },
     "execution_count": 37,
     "metadata": {},
     "output_type": "execute_result"
    }
   ],
   "source": [
    "df.columns"
   ]
  },
  {
   "cell_type": "code",
   "execution_count": 38,
   "id": "03e30405",
   "metadata": {},
   "outputs": [
    {
     "data": {
      "text/plain": [
       "RangeIndex(start=0, stop=2, step=1)"
      ]
     },
     "execution_count": 38,
     "metadata": {},
     "output_type": "execute_result"
    }
   ],
   "source": [
    "df.index"
   ]
  },
  {
   "cell_type": "code",
   "execution_count": 39,
   "id": "c0a2ee26",
   "metadata": {},
   "outputs": [],
   "source": [
    "df.index = [\"I\",\"II\"]"
   ]
  },
  {
   "cell_type": "code",
   "execution_count": 40,
   "id": "27ae408f",
   "metadata": {},
   "outputs": [
    {
     "name": "stdout",
     "output_type": "stream",
     "text": [
      "   courses grades\n",
      "I     F441      A\n",
      "II    F311     B+\n"
     ]
    }
   ],
   "source": [
    "print(df)"
   ]
  },
  {
   "cell_type": "markdown",
   "id": "361606fe",
   "metadata": {},
   "source": [
    "##### Accessing Columns and Rows of DataFrame."
   ]
  },
  {
   "cell_type": "code",
   "execution_count": 41,
   "id": "72a1e92f",
   "metadata": {},
   "outputs": [
    {
     "name": "stdout",
     "output_type": "stream",
     "text": [
      "I     F441\n",
      "II    F311\n",
      "Name: courses, dtype: object\n"
     ]
    }
   ],
   "source": [
    "#column Access is similar to disctional access using key.\n",
    "print(df[\"courses\"])"
   ]
  },
  {
   "cell_type": "code",
   "execution_count": 42,
   "id": "65e92299",
   "metadata": {},
   "outputs": [
    {
     "name": "stdout",
     "output_type": "stream",
     "text": [
      "I      A\n",
      "II    B+\n",
      "Name: grades, dtype: object\n"
     ]
    }
   ],
   "source": [
    "print(df[\"grades\"])"
   ]
  },
  {
   "cell_type": "markdown",
   "id": "319882e5",
   "metadata": {},
   "source": [
    "Pandas dataframe has two different function to access rows.\n",
    "- .loc is typically used for label indexing and can access multiple columns using column name, \n",
    "- .iloc is used for integer indexing both rows and columns."
   ]
  },
  {
   "cell_type": "code",
   "execution_count": 43,
   "id": "4c707615",
   "metadata": {},
   "outputs": [
    {
     "name": "stdout",
     "output_type": "stream",
     "text": [
      "courses    F441\n",
      "grades        A\n",
      "Name: I, dtype: object\n"
     ]
    }
   ],
   "source": [
    "# Row access\n",
    "print(df.loc[\"I\"])"
   ]
  },
  {
   "cell_type": "code",
   "execution_count": 44,
   "id": "ca6352e7",
   "metadata": {},
   "outputs": [
    {
     "name": "stdout",
     "output_type": "stream",
     "text": [
      "F441\n"
     ]
    }
   ],
   "source": [
    "print(df.loc[\"I\",\"courses\"])"
   ]
  },
  {
   "cell_type": "code",
   "execution_count": 45,
   "id": "52780f3f",
   "metadata": {},
   "outputs": [
    {
     "name": "stdout",
     "output_type": "stream",
     "text": [
      "A\n"
     ]
    }
   ],
   "source": [
    "print(df.iloc[0,1])"
   ]
  },
  {
   "cell_type": "code",
   "execution_count": 46,
   "id": "e298e224",
   "metadata": {},
   "outputs": [
    {
     "name": "stdout",
     "output_type": "stream",
     "text": [
      "F441\n"
     ]
    }
   ],
   "source": [
    "print(df.iloc[0][\"courses\"])"
   ]
  },
  {
   "cell_type": "markdown",
   "id": "59dab877",
   "metadata": {},
   "source": [
    "##### Reading tabular data\n",
    "In pandas, you can use the read_* functions to read various types of data formats into a DataFrame. Here are a few commonly used functions for reading data.\n",
    "- .read_csv()\n",
    "- .read_excel()\n",
    "- .read_json()\n",
    "- ..."
   ]
  },
  {
   "cell_type": "code",
   "execution_count": 47,
   "id": "8ca5f018",
   "metadata": {},
   "outputs": [
    {
     "name": "stdout",
     "output_type": "stream",
     "text": [
      "   Duration  Pulse  Maxpulse  Calories\n",
      "0        60    110       130     409.1\n",
      "1        60    117       145     479.0\n",
      "2        60    103       135     340.0\n",
      "3        45    109       175     282.4\n",
      "4        45    117       148     406.0\n",
      "5        60    102       127     300.0\n",
      "6        60    110       136     374.0\n",
      "7        45    104       134     253.3\n",
      "8        30    109       133     195.1\n",
      "9        60     98       124     269.0\n"
     ]
    }
   ],
   "source": [
    "df = pd.read_csv(\"data.csv\")\n",
    "print(df.head(10))"
   ]
  },
  {
   "cell_type": "code",
   "execution_count": 48,
   "id": "a1d10e2c",
   "metadata": {},
   "outputs": [
    {
     "name": "stdout",
     "output_type": "stream",
     "text": [
      "<class 'pandas.core.frame.DataFrame'>\n",
      "RangeIndex: 169 entries, 0 to 168\n",
      "Data columns (total 4 columns):\n",
      " #   Column    Non-Null Count  Dtype  \n",
      "---  ------    --------------  -----  \n",
      " 0   Duration  169 non-null    int64  \n",
      " 1   Pulse     169 non-null    int64  \n",
      " 2   Maxpulse  169 non-null    int64  \n",
      " 3   Calories  164 non-null    float64\n",
      "dtypes: float64(1), int64(3)\n",
      "memory usage: 5.4 KB\n"
     ]
    }
   ],
   "source": [
    "df.info()"
   ]
  },
  {
   "cell_type": "code",
   "execution_count": 49,
   "id": "5bfd3413",
   "metadata": {},
   "outputs": [
    {
     "data": {
      "text/html": [
       "<div>\n",
       "<style scoped>\n",
       "    .dataframe tbody tr th:only-of-type {\n",
       "        vertical-align: middle;\n",
       "    }\n",
       "\n",
       "    .dataframe tbody tr th {\n",
       "        vertical-align: top;\n",
       "    }\n",
       "\n",
       "    .dataframe thead th {\n",
       "        text-align: right;\n",
       "    }\n",
       "</style>\n",
       "<table border=\"1\" class=\"dataframe\">\n",
       "  <thead>\n",
       "    <tr style=\"text-align: right;\">\n",
       "      <th></th>\n",
       "      <th>Duration</th>\n",
       "      <th>Pulse</th>\n",
       "      <th>Maxpulse</th>\n",
       "      <th>Calories</th>\n",
       "    </tr>\n",
       "  </thead>\n",
       "  <tbody>\n",
       "    <tr>\n",
       "      <th>count</th>\n",
       "      <td>169.000000</td>\n",
       "      <td>169.000000</td>\n",
       "      <td>169.000000</td>\n",
       "      <td>164.000000</td>\n",
       "    </tr>\n",
       "    <tr>\n",
       "      <th>mean</th>\n",
       "      <td>63.846154</td>\n",
       "      <td>107.461538</td>\n",
       "      <td>134.047337</td>\n",
       "      <td>375.790244</td>\n",
       "    </tr>\n",
       "    <tr>\n",
       "      <th>std</th>\n",
       "      <td>42.299949</td>\n",
       "      <td>14.510259</td>\n",
       "      <td>16.450434</td>\n",
       "      <td>266.379919</td>\n",
       "    </tr>\n",
       "    <tr>\n",
       "      <th>min</th>\n",
       "      <td>15.000000</td>\n",
       "      <td>80.000000</td>\n",
       "      <td>100.000000</td>\n",
       "      <td>50.300000</td>\n",
       "    </tr>\n",
       "    <tr>\n",
       "      <th>25%</th>\n",
       "      <td>45.000000</td>\n",
       "      <td>100.000000</td>\n",
       "      <td>124.000000</td>\n",
       "      <td>250.925000</td>\n",
       "    </tr>\n",
       "    <tr>\n",
       "      <th>50%</th>\n",
       "      <td>60.000000</td>\n",
       "      <td>105.000000</td>\n",
       "      <td>131.000000</td>\n",
       "      <td>318.600000</td>\n",
       "    </tr>\n",
       "    <tr>\n",
       "      <th>75%</th>\n",
       "      <td>60.000000</td>\n",
       "      <td>111.000000</td>\n",
       "      <td>141.000000</td>\n",
       "      <td>387.600000</td>\n",
       "    </tr>\n",
       "    <tr>\n",
       "      <th>max</th>\n",
       "      <td>300.000000</td>\n",
       "      <td>159.000000</td>\n",
       "      <td>184.000000</td>\n",
       "      <td>1860.400000</td>\n",
       "    </tr>\n",
       "  </tbody>\n",
       "</table>\n",
       "</div>"
      ],
      "text/plain": [
       "         Duration       Pulse    Maxpulse     Calories\n",
       "count  169.000000  169.000000  169.000000   164.000000\n",
       "mean    63.846154  107.461538  134.047337   375.790244\n",
       "std     42.299949   14.510259   16.450434   266.379919\n",
       "min     15.000000   80.000000  100.000000    50.300000\n",
       "25%     45.000000  100.000000  124.000000   250.925000\n",
       "50%     60.000000  105.000000  131.000000   318.600000\n",
       "75%     60.000000  111.000000  141.000000   387.600000\n",
       "max    300.000000  159.000000  184.000000  1860.400000"
      ]
     },
     "execution_count": 49,
     "metadata": {},
     "output_type": "execute_result"
    }
   ],
   "source": [
    "df.describe()"
   ]
  },
  {
   "cell_type": "markdown",
   "id": "8160724f",
   "metadata": {},
   "source": [
    "### Flow Control\n",
    "- if-then-else\n",
    "- for loop\n",
    "- while loop"
   ]
  },
  {
   "cell_type": "markdown",
   "id": "37b48e8a",
   "metadata": {},
   "source": [
    "#### if-then-else statements: 3 forms\n",
    "- if statement\n",
    "- if...else statement\n",
    "- if...elif...else statement\n",
    "\n",
    "Statements can be code blocks.  \n",
    "Code blocks are created using indents.\n",
    "Indentation is done using spaces: say 2 or 4 spaces. But should be consistent throughout the file."
   ]
  },
  {
   "cell_type": "code",
   "execution_count": 50,
   "id": "06352992",
   "metadata": {},
   "outputs": [],
   "source": [
    "number = 1"
   ]
  },
  {
   "cell_type": "code",
   "execution_count": 51,
   "id": "86464ed2",
   "metadata": {},
   "outputs": [
    {
     "name": "stdout",
     "output_type": "stream",
     "text": [
      "Number is positive.\n",
      "Positive number\n",
      "Positive number\n"
     ]
    }
   ],
   "source": [
    "#\n",
    "# if statement\n",
    "#\n",
    "if number > 0:\n",
    "    print('Number is positive.')\n",
    "\n",
    "#\n",
    "# if...else statement\n",
    "#\n",
    "if number > 0:\n",
    "    print('Positive number')\n",
    "else:\n",
    "    print('Negative number')\n",
    "\n",
    "#\n",
    "# if...elif...else statement\n",
    "#\n",
    "if number > 0:\n",
    "    print(\"Positive number\")\n",
    "elif number == 0:\n",
    "    print('Zero')\n",
    "else:\n",
    "    print('Negative number')"
   ]
  },
  {
   "cell_type": "markdown",
   "id": "5ff0a21d",
   "metadata": {},
   "source": [
    "#### Shorthand if statement\n",
    "result = value_if_true if condition else value_if_false"
   ]
  },
  {
   "cell_type": "code",
   "execution_count": 52,
   "id": "b75dc0f0",
   "metadata": {},
   "outputs": [
    {
     "data": {
      "text/plain": [
       "2"
      ]
     },
     "execution_count": 52,
     "metadata": {},
     "output_type": "execute_result"
    }
   ],
   "source": [
    "number if (number % 2 == 0) else number*2"
   ]
  },
  {
   "cell_type": "markdown",
   "id": "c6e50969",
   "metadata": {},
   "source": [
    "### for loop is used to run a block of code for a certain number of times. \n",
    "It is used to iterate over any sequences such as range, list, tuple, string, etc.  \n",
    "Syntax:  \n",
    "for val in sequence:  \n",
    "    # statement(s)"
   ]
  },
  {
   "cell_type": "code",
   "execution_count": 53,
   "id": "ce115f87",
   "metadata": {},
   "outputs": [
    {
     "name": "stdout",
     "output_type": "stream",
     "text": [
      "0\n",
      "1\n",
      "4\n",
      "9\n",
      "16\n"
     ]
    }
   ],
   "source": [
    "for i in range(5):\n",
    "    print (i*i)\n",
    "#The range() function returns a sequence of numbers, starting from 0 by default, and increments by 1 (by default), and stops before a specified number.\n",
    "#syntax: \n",
    "#  range(start, stop, step)"
   ]
  },
  {
   "cell_type": "code",
   "execution_count": 54,
   "id": "62722ccd",
   "metadata": {},
   "outputs": [
    {
     "name": "stdout",
     "output_type": "stream",
     "text": [
      "[0, 1, 4, 9, 16, 10]\n"
     ]
    }
   ],
   "source": [
    "aList = []\n",
    "for i in range(5):\n",
    "    aList.append(i*i)\n",
    "aList.append(10)\n",
    "print(aList)\n"
   ]
  },
  {
   "cell_type": "code",
   "execution_count": 55,
   "id": "184bb0c2",
   "metadata": {},
   "outputs": [],
   "source": [
    "#### Unpacking tuples"
   ]
  },
  {
   "cell_type": "code",
   "execution_count": 56,
   "id": "57e2a1cf",
   "metadata": {},
   "outputs": [
    {
     "name": "stdout",
     "output_type": "stream",
     "text": [
      "1 10\n",
      "2 20\n",
      "3 30\n"
     ]
    }
   ],
   "source": [
    "aList = [(1,10), (2,20), (3,30)]\n",
    "for x, y in aList:\n",
    "    print(x,y)"
   ]
  },
  {
   "cell_type": "markdown",
   "id": "5137968f",
   "metadata": {},
   "source": [
    "#### List Comprehension\n",
    "new_list = [expression for element in iterable]  \n",
    "new_list = [expression for element in iterable if condition]  \n"
   ]
  },
  {
   "cell_type": "code",
   "execution_count": 57,
   "id": "4da3aa4c",
   "metadata": {},
   "outputs": [
    {
     "data": {
      "text/plain": [
       "[0, 1, 4, 9, 16]"
      ]
     },
     "execution_count": 57,
     "metadata": {},
     "output_type": "execute_result"
    }
   ],
   "source": [
    "[i*i for i in range(5)]"
   ]
  },
  {
   "cell_type": "code",
   "execution_count": 58,
   "id": "bf25829f",
   "metadata": {},
   "outputs": [
    {
     "data": {
      "text/plain": [
       "[0, 4, 16]"
      ]
     },
     "execution_count": 58,
     "metadata": {},
     "output_type": "execute_result"
    }
   ],
   "source": [
    "[i*i for i in range(5) if i % 2 == 0]"
   ]
  },
  {
   "cell_type": "markdown",
   "id": "1a4b90b4",
   "metadata": {},
   "source": [
    "#### While loop\n",
    "while loop is used to run a block of code until a certain condition is met.  \n",
    "The syntax of while loop is  \n",
    "~~~\n",
    "while condition:   \n",
    "   body of while loop\n",
    "~~~\n"
   ]
  },
  {
   "cell_type": "code",
   "execution_count": 59,
   "id": "2e52d076",
   "metadata": {},
   "outputs": [
    {
     "name": "stdout",
     "output_type": "stream",
     "text": [
      "0\n",
      "1\n",
      "2\n",
      "3\n",
      "4\n"
     ]
    }
   ],
   "source": [
    "i = 0\n",
    "while i < 5:\n",
    " print (i)\n",
    " i += 1"
   ]
  },
  {
   "cell_type": "markdown",
   "id": "a517d4e4",
   "metadata": {},
   "source": [
    "### Functions:\n",
    "A function is a block of code which only runs when it is called.\n",
    "\n",
    "Function can be called with data, known as parameters (or arguments).\n",
    "A function can optionally return data as  result.\n",
    "\n",
    "Syntax:\n",
    "~~~\n",
    "def function_name(arguments):\n",
    "    # function body \n",
    "    return\n",
    "~~~"
   ]
  },
  {
   "cell_type": "code",
   "execution_count": 60,
   "id": "399df6e3",
   "metadata": {},
   "outputs": [
    {
     "name": "stdout",
     "output_type": "stream",
     "text": [
      "25\n"
     ]
    }
   ],
   "source": [
    "def square(num):\n",
    "    return num * num\n",
    "print(square(5))"
   ]
  },
  {
   "cell_type": "code",
   "execution_count": 61,
   "id": "c5d4d54d",
   "metadata": {},
   "outputs": [
    {
     "name": "stdout",
     "output_type": "stream",
     "text": [
      "Square of 1 = 1\n",
      "Square of 2 = 4\n",
      "Square of 3 = 9\n"
     ]
    }
   ],
   "source": [
    "for i in [1,2,3]:\n",
    "    print(f'Square of {i} = {square(i)}')"
   ]
  },
  {
   "cell_type": "markdown",
   "id": "335642ec",
   "metadata": {},
   "source": [
    "#### Lambda functions\n",
    "A lambda function is a small anonymous function.  \n",
    "A lambda function can take any number of arguments, but can only have one expression.  \n",
    "syntax:\n",
    "~~~\n",
    "lambda arguments : expression\n",
    "~~~"
   ]
  },
  {
   "cell_type": "code",
   "execution_count": 62,
   "id": "1408f0c0",
   "metadata": {},
   "outputs": [
    {
     "name": "stdout",
     "output_type": "stream",
     "text": [
      "15\n"
     ]
    }
   ],
   "source": [
    "x = lambda a : a + 10\n",
    "print(x(5))"
   ]
  },
  {
   "cell_type": "code",
   "execution_count": 63,
   "id": "81d00215",
   "metadata": {},
   "outputs": [
    {
     "name": "stdout",
     "output_type": "stream",
     "text": [
      "13\n"
     ]
    }
   ],
   "source": [
    "x = lambda a, b, c : a + b + c\n",
    "print(x(5, 6, 2))"
   ]
  },
  {
   "cell_type": "code",
   "execution_count": null,
   "id": "a20b3936-40a3-4e55-9402-f3f78b526b53",
   "metadata": {},
   "outputs": [],
   "source": []
  },
  {
   "cell_type": "code",
   "execution_count": null,
   "id": "c31fcfa1-8d61-4c7f-9db3-a23b8cc54fcd",
   "metadata": {},
   "outputs": [],
   "source": []
  },
  {
   "cell_type": "code",
   "execution_count": null,
   "id": "33dea787-784f-42f2-95b5-51e57d4029a3",
   "metadata": {},
   "outputs": [],
   "source": []
  },
  {
   "cell_type": "code",
   "execution_count": null,
   "id": "705d4944-e097-49f8-8a3b-7a77b9440e0b",
   "metadata": {},
   "outputs": [],
   "source": [
    "\n",
    "\n",
    "\n",
    "\n"
   ]
  },
  {
   "cell_type": "code",
   "execution_count": null,
   "id": "b356aec2-beb0-4e3b-a7b2-de8f9d8bd9b0",
   "metadata": {},
   "outputs": [],
   "source": []
  },
  {
   "cell_type": "code",
   "execution_count": null,
   "id": "e9ae57e0-f61c-43da-9bb8-a06acd254af0",
   "metadata": {},
   "outputs": [],
   "source": []
  },
  {
   "cell_type": "code",
   "execution_count": null,
   "id": "551519d7-822f-40bd-8a7c-00ab4c98da7d",
   "metadata": {},
   "outputs": [],
   "source": []
  },
  {
   "cell_type": "code",
   "execution_count": null,
   "id": "0282b7f9-9929-4192-8c92-eda22bcfe1f8",
   "metadata": {},
   "outputs": [],
   "source": []
  },
  {
   "cell_type": "code",
   "execution_count": null,
   "id": "09902881-4acc-4598-9b4b-8cce628f64e3",
   "metadata": {},
   "outputs": [],
   "source": []
  },
  {
   "cell_type": "code",
   "execution_count": null,
   "id": "9f26bcf2-7ad5-4368-a0f2-691dbf051964",
   "metadata": {},
   "outputs": [],
   "source": []
  }
 ],
 "metadata": {
  "kernelspec": {
   "display_name": "Python 3",
   "language": "python",
   "name": "python3"
  },
  "language_info": {
   "codemirror_mode": {
    "name": "ipython",
    "version": 3
   },
   "file_extension": ".py",
   "mimetype": "text/x-python",
   "name": "python",
   "nbconvert_exporter": "python",
   "pygments_lexer": "ipython3",
   "version": "3.13.1"
  }
 },
 "nbformat": 4,
 "nbformat_minor": 5
}
