{
 "cells": [
  {
   "cell_type": "markdown",
   "id": "6e492319-80ea-414d-8dd3-6660c02bf68a",
   "metadata": {},
   "source": [
    "# Sci Vis using Plotly and Matplotlib"
   ]
  },
  {
   "cell_type": "code",
   "execution_count": null,
   "id": "61d67a04-ace4-43a4-a3ae-fe80a015136d",
   "metadata": {
    "jupyter": {
     "source_hidden": true
    }
   },
   "outputs": [],
   "source": [
    "import numpy as np\n",
    "import plotly\n",
    "import plotly.figure_factory as ff\n",
    "import plotly.express as px\n",
    "import matplotlib.pyplot as plt"
   ]
  },
  {
   "cell_type": "markdown",
   "id": "7fcb963d-5114-4e03-a6e9-4dfcdbaf5c09",
   "metadata": {},
   "source": [
    "### Quiver plot\n",
    "Plotting vector V at any point as an arrow."
   ]
  },
  {
   "cell_type": "code",
   "execution_count": null,
   "id": "69ae9379-d343-4266-bc2c-46266bff59db",
   "metadata": {
    "jupyter": {
     "source_hidden": true
    }
   },
   "outputs": [],
   "source": [
    "def matplotlib_quiver(X,Y,u,v):\n",
    "    # Creating plot\n",
    "    fig, ax = plt.subplots(figsize =(7.5, 7.5))\n",
    "    ax.quiver(X, Y, u, v)\n",
    "     \n",
    "    ax.xaxis.set_ticks([])\n",
    "    ax.yaxis.set_ticks([])\n",
    "    ax.set_aspect('equal')\n",
    "    return plt"
   ]
  },
  {
   "cell_type": "code",
   "execution_count": null,
   "id": "690cd2cc-e191-406f-a59f-e9fea5c1746a",
   "metadata": {
    "jupyter": {
     "source_hidden": true
    }
   },
   "outputs": [],
   "source": [
    "def plotly_quiver(X,Y,u,v):\n",
    "    return ff.create_quiver(X, Y, u, v,scale=.25,\n",
    "                       arrow_scale=.4,\n",
    "                       name='quiver',\n",
    "                       line_width=1).update_layout(width=600, height=600,  xaxis=dict(visible=False), yaxis=dict(visible=False), margin=dict(l=0,r=0,b=0,t=0))\n"
   ]
  },
  {
   "cell_type": "code",
   "execution_count": null,
   "id": "e698bbd1-50c3-445e-8b87-54e08e881f43",
   "metadata": {
    "jupyter": {
     "source_hidden": true
    }
   },
   "outputs": [],
   "source": [
    "# Creating arrow \n",
    "x = np.arange(0, 2 * np.pi + 2 * np.pi / 20, \n",
    "              2 * np.pi / 20)\n",
    "y = np.arange(0, 2 * np.pi + 2 * np.pi / 20,\n",
    "              2 * np.pi / 20)\n",
    " \n",
    "X, Y = np.meshgrid(x, y)\n",
    "#force vector: F = (sinX*cosX, -cosX*sinY)\n",
    "u = np.sin(X)*np.cos(Y)\n",
    "v = -np.cos(X)*np.sin(Y)"
   ]
  },
  {
   "cell_type": "code",
   "execution_count": null,
   "id": "21f51704-c964-40c2-ad2a-f56a59cf03fb",
   "metadata": {
    "jupyter": {
     "source_hidden": true
    }
   },
   "outputs": [],
   "source": [
    "2 * np.pi / 20"
   ]
  },
  {
   "cell_type": "code",
   "execution_count": null,
   "id": "ee2d8c33-9b29-404e-a96f-9a34f8c3b3cf",
   "metadata": {
    "jupyter": {
     "source_hidden": true
    }
   },
   "outputs": [],
   "source": [
    "plotly_quiver(X,Y,u,v)"
   ]
  },
  {
   "cell_type": "code",
   "execution_count": null,
   "id": "9cedd5a5-5187-4643-9a65-f5e3160d16a8",
   "metadata": {
    "jupyter": {
     "source_hidden": true
    }
   },
   "outputs": [],
   "source": [
    "plt = matplotlib_quiver(X,Y,u,v)\n",
    "plt.show()"
   ]
  },
  {
   "cell_type": "code",
   "execution_count": null,
   "id": "dd88122a-35f7-4212-b5ca-60ad74c795bb",
   "metadata": {
    "jupyter": {
     "source_hidden": true
    }
   },
   "outputs": [],
   "source": [
    "x = np.arange(-2, 2, .2)\n",
    "y = np.arange(-2, 2, .2)\n",
    "X,Y = np.meshgrid(x, y)\n",
    "z = X*np.exp(-X**2 - Y**2)\n",
    "v, u = np.gradient(z, .2, .2)"
   ]
  },
  {
   "cell_type": "code",
   "execution_count": null,
   "id": "54d4e191-c627-4378-acb3-ed38534f4006",
   "metadata": {
    "jupyter": {
     "source_hidden": true
    }
   },
   "outputs": [],
   "source": [
    "v.size"
   ]
  },
  {
   "cell_type": "code",
   "execution_count": null,
   "id": "d63c3adc-4d35-41d4-8039-582f82bd1696",
   "metadata": {
    "jupyter": {
     "source_hidden": true
    }
   },
   "outputs": [],
   "source": [
    "plotly_quiver(X,Y,u,v)"
   ]
  },
  {
   "cell_type": "code",
   "execution_count": null,
   "id": "85f67512-6b4e-4718-b17a-b9164b98532f",
   "metadata": {
    "jupyter": {
     "source_hidden": true
    }
   },
   "outputs": [],
   "source": [
    "plt=matplotlib_quiver(X,Y,u,v)\n",
    "plt.show()"
   ]
  },
  {
   "cell_type": "markdown",
   "id": "5ea3bb7c-881c-4712-bc8a-aaf62f2a4faf",
   "metadata": {},
   "source": [
    "### Streamline\n",
    "A streamline is a line that is tangential to the instantaneous velocity direction.\n",
    "In other words, a tangent to a streamline at a point is in the direction of the fluid velocity at that point;"
   ]
  },
  {
   "cell_type": "code",
   "execution_count": null,
   "id": "533e7222-819e-4cb1-8920-9354f1cce4ab",
   "metadata": {
    "jupyter": {
     "source_hidden": true
    }
   },
   "outputs": [],
   "source": [
    "def matplotlib_streamline(X,Y,u,v):\n",
    "    # Creating plot\n",
    "    fig, ax = plt.subplots(figsize =(13, 8))\n",
    "    ax.streamplot(X, Y, u, v, density=[0.5, 1])\n",
    "     \n",
    "    ax.xaxis.set_ticks([])\n",
    "    ax.yaxis.set_ticks([])\n",
    "    ax.set_aspect('equal')\n",
    "    return plt"
   ]
  },
  {
   "cell_type": "code",
   "execution_count": null,
   "id": "8e35f670-ed67-45bd-a47a-d370d0303efa",
   "metadata": {
    "jupyter": {
     "source_hidden": true
    }
   },
   "outputs": [],
   "source": [
    "def plotly_streamline(x,y,u,v):\n",
    "    return ff.create_streamline(x, y, u, v, arrow_scale=.1).update_layout(width=600, height=600,  xaxis=dict(visible=False), yaxis=dict(visible=False), margin=dict(l=0,r=0,b=0,t=0))"
   ]
  },
  {
   "cell_type": "code",
   "execution_count": null,
   "id": "ea4ce279-2185-4534-87c3-470281be3ed3",
   "metadata": {
    "jupyter": {
     "source_hidden": true
    },
    "scrolled": true
   },
   "outputs": [],
   "source": [
    "fig = ff.create_streamline(x, y, u, v, arrow_scale=.1).update_layout(width=600, height=600,  xaxis=dict(visible=False), yaxis=dict(visible=False), margin=dict(l=0,r=0,b=0,t=0))\n",
    "fig.show()"
   ]
  },
  {
   "cell_type": "code",
   "execution_count": null,
   "id": "9af609c6-07a7-4568-a9ae-17764a0c31f7",
   "metadata": {
    "jupyter": {
     "source_hidden": true
    }
   },
   "outputs": [],
   "source": [
    "plt=matplotlib_streamline(x,y,u,v)\n",
    "plt.show()"
   ]
  },
  {
   "cell_type": "code",
   "execution_count": null,
   "id": "b2b54dfa-0bfa-41ec-ae8b-f7355f8a6345",
   "metadata": {
    "jupyter": {
     "source_hidden": true
    }
   },
   "outputs": [],
   "source": [
    "x = np.linspace(-3, 3, 100)\n",
    "y = np.linspace(-3, 3, 100)\n",
    "Y, X = np.meshgrid(x, y)\n",
    "u = -1 - X**2 + Y\n",
    "v = 1 + X - Y**2"
   ]
  },
  {
   "cell_type": "code",
   "execution_count": null,
   "id": "a0f8ef79-4791-4054-b3aa-06a7d269e544",
   "metadata": {
    "jupyter": {
     "source_hidden": true
    }
   },
   "outputs": [],
   "source": [
    "# Create streamline figure\n",
    "fig = plotly_streamline(x,y,u,v) \n",
    "fig.show()"
   ]
  },
  {
   "cell_type": "code",
   "execution_count": null,
   "id": "84f5b496-1a44-4a1e-b066-58f97c1ad4a3",
   "metadata": {
    "jupyter": {
     "source_hidden": true
    }
   },
   "outputs": [],
   "source": [
    "plt=matplotlib_streamline(x,y,u,v)\n",
    "plt.show()"
   ]
  },
  {
   "cell_type": "markdown",
   "id": "f7e0715f-fe2a-42d8-aa94-6e03cd299c60",
   "metadata": {},
   "source": [
    "### Vector field in 3D: As Arrow"
   ]
  },
  {
   "cell_type": "code",
   "execution_count": null,
   "id": "7ea44bbe-e545-4838-83ef-aeab4141e453",
   "metadata": {
    "jupyter": {
     "source_hidden": true
    }
   },
   "outputs": [],
   "source": [
    "import pandas as pd\n",
    "import plotly.graph_objects as go\n",
    "df = pd.read_csv(\"https://raw.githubusercontent.com/plotly/datasets/master/vortex.csv\")\n",
    "\n",
    "fig = go.Figure(data = go.Cone(\n",
    "    x=df['x'],\n",
    "    y=df['y'],\n",
    "    z=df['z'],\n",
    "    u=df['u'],\n",
    "    v=df['v'],\n",
    "    w=df['w'],\n",
    "    colorscale='Blues',\n",
    "    sizemode=\"absolute\",\n",
    "    sizeref=40))\n",
    "\n",
    "fig.update_layout(scene=dict(aspectratio = dict(x = 2, y = 1, z = 1),camera_eye=dict(x=1.2, y=1.2, z=0.6),),margin=dict(l=0,r=0,b=0,t=0))\n",
    "\n",
    "fig.show()"
   ]
  },
  {
   "cell_type": "markdown",
   "id": "4246e5a7-1bd2-4404-aa23-f61a3860b77d",
   "metadata": {},
   "source": [
    "### Stream Tubes\n",
    "A streamtube is a tubular region of fluid surrounded by streamlines. Since streamlines don't intersect, the same streamlines pass through a streamtube at all points along its length. "
   ]
  },
  {
   "cell_type": "code",
   "execution_count": null,
   "id": "17609a73-b338-40e4-beab-540f38839724",
   "metadata": {
    "jupyter": {
     "source_hidden": true
    }
   },
   "outputs": [],
   "source": [
    "import plotly.graph_objects as go\n",
    "\n",
    "import pandas as pd\n",
    "\n",
    "df = pd.read_csv('https://raw.githubusercontent.com/plotly/datasets/master/streamtube-wind.csv').drop(['Unnamed: 0'],axis=1)\n",
    "\n",
    "fig = go.Figure(data=go.Streamtube(\n",
    "    x = df['x'],\n",
    "    y = df['y'],\n",
    "    z = df['z'],\n",
    "    u = df['u'],\n",
    "    v = df['v'],\n",
    "    w = df['w'],\n",
    "    starts = dict(\n",
    "        x = [80] * 16,\n",
    "        y = [20,30,40,50] * 4,\n",
    "        z = [0,0,0,0,5,5,5,5,10,10,10,10,15,15,15,15]\n",
    "    ),\n",
    "    sizeref = 0.3,\n",
    "    colorscale = 'Portland',\n",
    "    showscale = False,\n",
    "    maxdisplayed = 3000\n",
    "))\n",
    "\n",
    "fig.update_layout(\n",
    "    scene = dict(\n",
    "        aspectratio = dict(\n",
    "            x = 2,\n",
    "            y = 1,\n",
    "            z = 1\n",
    "        )\n",
    "    ),\n",
    "    margin = dict(\n",
    "        t = 20,\n",
    "        b = 20,\n",
    "        l = 20,\n",
    "        r = 20\n",
    "    )\n",
    ")\n",
    "\n",
    "fig.show()"
   ]
  },
  {
   "cell_type": "code",
   "execution_count": null,
   "id": "d675bac7-4b8a-475f-b02c-50e0f14e5b99",
   "metadata": {
    "jupyter": {
     "source_hidden": true
    }
   },
   "outputs": [],
   "source": [
    "df"
   ]
  },
  {
   "cell_type": "markdown",
   "id": "a4b740dc-ecd8-4048-b849-05a2c14c3902",
   "metadata": {},
   "source": [
    "### 3D Surface Plots and Contour"
   ]
  },
  {
   "cell_type": "code",
   "execution_count": null,
   "id": "22eaba34-3ff0-4b31-ab1d-c3674631da9c",
   "metadata": {
    "jupyter": {
     "source_hidden": true
    }
   },
   "outputs": [],
   "source": [
    "# Make data.\n",
    "# see https://plotly.com/python/3d-surface-plots/\n",
    "x = np.arange(-5, 5, 0.25)\n",
    "y= np.arange(-5, 5, 0.25)\n",
    "X, Y = np.meshgrid(x, y)\n",
    "R = np.sqrt(X**2 + Y**2)\n",
    "Z = np.sin(R)\n",
    "fig = go.Figure(data=[go.Surface(z=Z, x=X, y=Y)])\n",
    "\n",
    "fig.update_layout(title='Mathematical function', autosize=False,\n",
    "                  width=800, height=500,\n",
    "                  margin=dict(l=65, r=50, b=65, t=90))\n",
    "\n",
    "fig.show(config = dict({'scrollZoom': False}))"
   ]
  },
  {
   "cell_type": "code",
   "execution_count": null,
   "id": "ba400e65-fa27-4cf3-82ff-a17efff9f960",
   "metadata": {
    "jupyter": {
     "source_hidden": true
    }
   },
   "outputs": [],
   "source": [
    "fig = go.Figure(go.Surface(\n",
    "        contours = {\n",
    "        \"z\": {\"show\": True, \"start\": -1, \"end\": 1, \"size\": 0.1, \"color\":\"white\"},\n",
    "        #\"x\": {\"show\": True, \"start\": 0.5, \"end\": 0.8, \"size\": 0.05}\n",
    "    },\n",
    "        z=Z, x=X, y=Y))\n",
    "\n",
    "    \n",
    "fig.update_layout(title='Mathematical function', autosize=False,\n",
    "                  width=600, height=500,\n",
    "                  margin=dict(l=65, r=50, b=65, t=90),\n",
    "                 )\n",
    "fig.show(config = dict({'scrollZoom': False}))\n"
   ]
  },
  {
   "cell_type": "code",
   "execution_count": null,
   "id": "ee7b2e19-31b4-4719-b26f-99c19e2122f2",
   "metadata": {
    "jupyter": {
     "source_hidden": true
    }
   },
   "outputs": [],
   "source": [
    "fig = go.Figure(go.Contour(\n",
    "        z=Z, x=x, y=y))\n",
    "fig.update_layout(title='Mathematical function: Contouring and Coloring', autosize=False,\n",
    "                  width=500, height=500,\n",
    "                  margin=dict(l=65, r=50, b=65, t=90))\n",
    "\n",
    "fig.show()"
   ]
  },
  {
   "cell_type": "code",
   "execution_count": null,
   "id": "b05d5846-5ec0-49a9-86ec-2d38aab9088f",
   "metadata": {
    "jupyter": {
     "source_hidden": true
    }
   },
   "outputs": [],
   "source": [
    "fig=go.Figure(go.Contour(\n",
    "    x=x, y=y, z=Z,\n",
    "    contours=dict(\n",
    "        coloring='lines',\n",
    "        showlabels=True),\n",
    "    line=dict(width=2)\n",
    "))\n",
    "fig.update_layout(title='Mathematical function: Contour Lines', autosize=False, #template=\"plotly_dark\"\n",
    "                  width=500, height=500,\n",
    "                  margin=dict(l=65, r=50, b=65, t=90))"
   ]
  },
  {
   "cell_type": "code",
   "execution_count": null,
   "id": "5c1687f4-0ede-4ed3-b31a-57166c045868",
   "metadata": {
    "jupyter": {
     "source_hidden": true
    }
   },
   "outputs": [],
   "source": [
    "x = np.arange(-2, 2, 0.25)*np.pi\n",
    "y= np.arange(-2, 2, 0.25)*np.pi\n",
    "X, Y = np.meshgrid(x, y)\n",
    "c = 5\n",
    "Z = np.sin(np.sqrt(X**2+Y**2))+1/np.sqrt((X-c)**2 + Y**2)\n",
    "fig = go.Figure(data=[go.Contour(z=Z, x=x, y=y)])\n",
    "\n",
    "fig.update_layout(title='Mathematical function', autosize=False,\n",
    "                  width=600, height=500,\n",
    "                  margin=dict(l=65, r=50, b=65, t=90))\n",
    "\n",
    "fig.show(config = dict({'scrollZoom': False}))\n",
    "fig = go.Figure(data=[go.Surface(z=Z, x=X, y=Y)])\n",
    "\n",
    "fig.update_layout(title='Mathematical function', autosize=False,\n",
    "                  width=600, height=500,\n",
    "                  margin=dict(l=65, r=50, b=65, t=90))\n",
    "fig=go.Figure(go.Contour(\n",
    "    x=x, y=y, z=Z,\n",
    "    contours=dict(\n",
    "        coloring='lines',\n",
    "        showlabels=True),\n",
    "    line=dict(width=2)\n",
    "))\n",
    "fig.update_layout(title='Mathematical function: Contour Lines', autosize=False,\n",
    "                  width=500, height=500,\n",
    "                  margin=dict(l=65, r=50, b=65, t=90))\n",
    "fig.show(config = dict({'scrollZoom': False}))"
   ]
  },
  {
   "cell_type": "code",
   "execution_count": null,
   "id": "2ccdead3-7d65-4cd8-a394-633b22904d29",
   "metadata": {
    "jupyter": {
     "source_hidden": true
    }
   },
   "outputs": [],
   "source": []
  }
 ],
 "metadata": {
  "kernelspec": {
   "display_name": "Python 3 (ipykernel)",
   "language": "python",
   "name": "python3"
  },
  "language_info": {
   "codemirror_mode": {
    "name": "ipython",
    "version": 3
   },
   "file_extension": ".py",
   "mimetype": "text/x-python",
   "name": "python",
   "nbconvert_exporter": "python",
   "pygments_lexer": "ipython3",
   "version": "3.11.4"
  }
 },
 "nbformat": 4,
 "nbformat_minor": 5
}
