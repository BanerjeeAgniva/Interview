{
 "cells": [
  {
   "cell_type": "markdown",
   "id": "3b1d0f68-ed71-4f98-bf8b-7d21ffc69abd",
   "metadata": {},
   "source": [
    "## Visual Distribution analysis: 1D Data Visualizaiton: "
   ]
  },
  {
   "cell_type": "code",
   "execution_count": null,
   "id": "78f9ac53",
   "metadata": {
    "jupyter": {
     "source_hidden": true
    }
   },
   "outputs": [],
   "source": [
    "import pandas as pd"
   ]
  },
  {
   "cell_type": "code",
   "execution_count": null,
   "id": "e967658d",
   "metadata": {
    "jupyter": {
     "source_hidden": true
    }
   },
   "outputs": [],
   "source": [
    "### Visualization using Seaborn\n",
    "See https://seaborn.pydata.org/api.html for details on each Seaborn method"
   ]
  },
  {
   "cell_type": "code",
   "execution_count": null,
   "id": "1e2820bf",
   "metadata": {
    "jupyter": {
     "source_hidden": true
    }
   },
   "outputs": [],
   "source": [
    "#!pip install seaborn\n",
    "import seaborn as sns"
   ]
  },
  {
   "cell_type": "code",
   "execution_count": null,
   "id": "2851d6a6",
   "metadata": {
    "jupyter": {
     "source_hidden": true
    }
   },
   "outputs": [],
   "source": [
    "# Old Faithful Geiser dataset from Seaborn Dataset available from https://github.com/mwaskom/seaborn-data\n",
    "df = sns.load_dataset(\"geyser\",cache=True)\n",
    "df.head()"
   ]
  },
  {
   "cell_type": "code",
   "execution_count": null,
   "id": "5b19dd9c",
   "metadata": {
    "jupyter": {
     "source_hidden": true
    }
   },
   "outputs": [],
   "source": [
    "sns.stripplot(df,x=\"duration\")"
   ]
  },
  {
   "cell_type": "code",
   "execution_count": null,
   "id": "06c45e81",
   "metadata": {
    "jupyter": {
     "source_hidden": true
    }
   },
   "outputs": [],
   "source": [
    "sns.set(rc={'figure.figsize': (10, 6)}) # RC: Runtime configuration parameter\n",
    "sns.stripplot(df,x=\"duration\")"
   ]
  },
  {
   "cell_type": "code",
   "execution_count": null,
   "id": "b3917cbe-065b-4bd1-8ce2-ec196e5bb541",
   "metadata": {
    "jupyter": {
     "source_hidden": true
    }
   },
   "outputs": [],
   "source": [
    "sns.stripplot(df,x=\"duration\", jitter = 0.02)"
   ]
  },
  {
   "cell_type": "code",
   "execution_count": null,
   "id": "87784be9",
   "metadata": {
    "jupyter": {
     "source_hidden": true
    }
   },
   "outputs": [],
   "source": [
    "sns.swarmplot(df,x=\"duration\")"
   ]
  },
  {
   "cell_type": "code",
   "execution_count": null,
   "id": "fe7f00d2",
   "metadata": {
    "jupyter": {
     "source_hidden": true
    }
   },
   "outputs": [],
   "source": [
    "sns.boxplot(df,x=\"duration\")"
   ]
  },
  {
   "cell_type": "code",
   "execution_count": null,
   "id": "a5e49756",
   "metadata": {
    "jupyter": {
     "source_hidden": true
    }
   },
   "outputs": [],
   "source": [
    "sns.violinplot(df,x=\"duration\")"
   ]
  },
  {
   "cell_type": "code",
   "execution_count": null,
   "id": "a99b5a37",
   "metadata": {
    "jupyter": {
     "source_hidden": true
    }
   },
   "outputs": [],
   "source": [
    "sns.histplot(df,x=\"duration\") # Fill = True / False"
   ]
  },
  {
   "cell_type": "code",
   "execution_count": null,
   "id": "d7f5f214",
   "metadata": {
    "jupyter": {
     "source_hidden": true
    }
   },
   "outputs": [],
   "source": [
    "sns.histplot(df, x=\"duration\", element=\"poly\")"
   ]
  },
  {
   "cell_type": "code",
   "execution_count": null,
   "id": "51d135cc",
   "metadata": {
    "jupyter": {
     "source_hidden": true
    }
   },
   "outputs": [],
   "source": [
    "sns.kdeplot(df, x=\"duration\")"
   ]
  },
  {
   "cell_type": "code",
   "execution_count": null,
   "id": "35f3a294",
   "metadata": {
    "jupyter": {
     "source_hidden": true
    }
   },
   "outputs": [],
   "source": [
    "sns.histplot(df,x=\"duration\", kde=True) # Fill = True / False"
   ]
  },
  {
   "cell_type": "code",
   "execution_count": null,
   "id": "da984a3e",
   "metadata": {
    "jupyter": {
     "source_hidden": true
    }
   },
   "outputs": [],
   "source": [
    "df.head()"
   ]
  },
  {
   "cell_type": "code",
   "execution_count": null,
   "id": "ca8bde74",
   "metadata": {
    "jupyter": {
     "source_hidden": true
    }
   },
   "outputs": [],
   "source": [
    "df[\"kind\"].value_counts()"
   ]
  },
  {
   "cell_type": "code",
   "execution_count": null,
   "id": "ef2fea88",
   "metadata": {
    "jupyter": {
     "source_hidden": true
    }
   },
   "outputs": [],
   "source": [
    "sns.histplot(df,x=\"duration\", kde=True, hue=\"kind\")"
   ]
  },
  {
   "cell_type": "code",
   "execution_count": null,
   "id": "1bf7523e",
   "metadata": {
    "jupyter": {
     "source_hidden": true
    }
   },
   "outputs": [],
   "source": [
    "sns.boxplot(df,x=\"duration\", y = \"kind\", hue = \"kind\")"
   ]
  },
  {
   "cell_type": "code",
   "execution_count": null,
   "id": "b86908c4",
   "metadata": {
    "jupyter": {
     "source_hidden": true
    }
   },
   "outputs": [],
   "source": [
    "sns.violinplot(df,x=\"duration\", y = \"kind\", hue = \"kind\")"
   ]
  },
  {
   "cell_type": "markdown",
   "id": "4ac47120",
   "metadata": {},
   "source": [
    "### Using Plotly Express"
   ]
  },
  {
   "cell_type": "code",
   "execution_count": null,
   "id": "7451e2f5",
   "metadata": {
    "jupyter": {
     "source_hidden": true
    }
   },
   "outputs": [],
   "source": [
    "#!pip install plotly\n",
    "# Visit https://plotly.com/python-api-reference/plotly.express.html for details on each method.\n",
    "import plotly.express as px"
   ]
  },
  {
   "cell_type": "code",
   "execution_count": null,
   "id": "b55b3c84-ba14-4f88-acb0-dfd3360d9b75",
   "metadata": {
    "jupyter": {
     "source_hidden": true
    }
   },
   "outputs": [],
   "source": [
    "px.strip(df,x=\"duration\", color=\"kind\")# Try stripmode =\"overlay\" or \"group\""
   ]
  },
  {
   "cell_type": "code",
   "execution_count": null,
   "id": "df77e498",
   "metadata": {
    "jupyter": {
     "source_hidden": true
    }
   },
   "outputs": [],
   "source": [
    "px.histogram(df,x=\"duration\", nbins=20)"
   ]
  },
  {
   "cell_type": "code",
   "execution_count": null,
   "id": "17aee0f8",
   "metadata": {
    "jupyter": {
     "source_hidden": true
    }
   },
   "outputs": [],
   "source": [
    "px.histogram(df,x=\"duration\", color=\"kind\", barmode=\"overlay\", opacity=0.5, nbins=20)"
   ]
  },
  {
   "cell_type": "code",
   "execution_count": null,
   "id": "6a76dc14",
   "metadata": {
    "jupyter": {
     "source_hidden": true
    }
   },
   "outputs": [],
   "source": [
    "px.box(df,x=\"duration\", color=\"kind\")"
   ]
  },
  {
   "cell_type": "code",
   "execution_count": null,
   "id": "d8e89936",
   "metadata": {
    "jupyter": {
     "source_hidden": true
    }
   },
   "outputs": [],
   "source": [
    "px.violin(df,x=\"duration\", color=\"kind\", box=True, points=\"all\")"
   ]
  },
  {
   "cell_type": "code",
   "execution_count": null,
   "id": "a69a41ac",
   "metadata": {
    "jupyter": {
     "source_hidden": true
    }
   },
   "outputs": [],
   "source": [
    "px.strip(df,x=\"duration\", color=\"kind\")"
   ]
  },
  {
   "cell_type": "code",
   "execution_count": null,
   "id": "dd17e3c6",
   "metadata": {
    "jupyter": {
     "source_hidden": true
    }
   },
   "outputs": [],
   "source": [
    "px.histogram(df,x=\"duration\", color=\"kind\", barmode=\"overlay\", opacity=0.5, nbins=20, marginal=\"box\") # can be `rug`, `violin`"
   ]
  },
  {
   "cell_type": "code",
   "execution_count": null,
   "id": "71cdfa63",
   "metadata": {
    "jupyter": {
     "source_hidden": true
    }
   },
   "outputs": [],
   "source": [
    "fig=px.histogram(df,x=\"duration\", color=\"kind\", barmode=\"overlay\", opacity=0.5, nbins=20, marginal=\"box\") # can be `rug`, `violin`\n",
    "fig.update_traces(marker_line_width=0.5,marker_line_color=\"white\")"
   ]
  },
  {
   "cell_type": "markdown",
   "id": "5848cb8e-1130-45db-9344-5e3012a11d7e",
   "metadata": {},
   "source": [
    "### Hint for the Assignment 2.\n",
    "Creating a new column on a dataframe based on the value of an existing column."
   ]
  },
  {
   "cell_type": "code",
   "execution_count": null,
   "id": "c61d9e0e-e0f8-40a1-8881-085bc58339cc",
   "metadata": {
    "jupyter": {
     "source_hidden": true
    }
   },
   "outputs": [],
   "source": [
    "df.head()"
   ]
  },
  {
   "cell_type": "code",
   "execution_count": null,
   "id": "15c5f331-3ac9-49af-a7c9-5c158158ec1d",
   "metadata": {
    "jupyter": {
     "source_hidden": true
    }
   },
   "outputs": [],
   "source": [
    "s = df[\"kind\"].copy()"
   ]
  },
  {
   "cell_type": "code",
   "execution_count": null,
   "id": "efba0cdd-7920-40f0-a9f5-c0edca92463c",
   "metadata": {
    "jupyter": {
     "source_hidden": true
    }
   },
   "outputs": [],
   "source": [
    "mask = s==\"long\""
   ]
  },
  {
   "cell_type": "code",
   "execution_count": null,
   "id": "c0db0e33-7351-4e33-aa14-77a57dda2e30",
   "metadata": {
    "jupyter": {
     "source_hidden": true
    }
   },
   "outputs": [],
   "source": [
    "s[mask] = 2"
   ]
  },
  {
   "cell_type": "code",
   "execution_count": null,
   "id": "20246708-ec35-4029-8ca0-9bd71c42e265",
   "metadata": {
    "jupyter": {
     "source_hidden": true
    }
   },
   "outputs": [],
   "source": [
    "s[~mask] = 1"
   ]
  },
  {
   "cell_type": "code",
   "execution_count": null,
   "id": "60077924-dc03-4caf-b488-6d6f4103226c",
   "metadata": {
    "jupyter": {
     "source_hidden": true
    }
   },
   "outputs": [],
   "source": [
    "s"
   ]
  },
  {
   "cell_type": "code",
   "execution_count": null,
   "id": "700c1b4d-696a-40e4-b278-2c62bde6b101",
   "metadata": {
    "jupyter": {
     "source_hidden": true
    }
   },
   "outputs": [],
   "source": [
    "df[\"id\"] = s"
   ]
  },
  {
   "cell_type": "code",
   "execution_count": null,
   "id": "450547ef-6c2a-4c64-9934-e444e6133e4d",
   "metadata": {
    "jupyter": {
     "source_hidden": true
    }
   },
   "outputs": [],
   "source": [
    "df.head()"
   ]
  },
  {
   "cell_type": "code",
   "execution_count": null,
   "id": "c4d61264-9ad4-4b75-a1be-196af25d0dbb",
   "metadata": {
    "jupyter": {
     "source_hidden": true
    }
   },
   "outputs": [],
   "source": []
  }
 ],
 "metadata": {
  "kernelspec": {
   "display_name": "Python 3 (ipykernel)",
   "language": "python",
   "name": "python3"
  },
  "language_info": {
   "codemirror_mode": {
    "name": "ipython",
    "version": 3
   },
   "file_extension": ".py",
   "mimetype": "text/x-python",
   "name": "python",
   "nbconvert_exporter": "python",
   "pygments_lexer": "ipython3",
   "version": "3.11.4"
  }
 },
 "nbformat": 4,
 "nbformat_minor": 5
}
