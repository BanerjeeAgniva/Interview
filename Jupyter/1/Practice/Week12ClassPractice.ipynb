{
 "cells": [
  {
   "cell_type": "code",
   "execution_count": null,
   "id": "cd69d2aa",
   "metadata": {
    "jupyter": {
     "source_hidden": true
    }
   },
   "outputs": [],
   "source": [
    "import pandas as pd\n",
    "import geopandas as gpd\n",
    "import plotly.express as px"
   ]
  },
  {
   "cell_type": "markdown",
   "id": "fbcf341c-e5df-430e-a09e-ddab3096760d",
   "metadata": {},
   "source": [
    "### Geojson format for Geographical Geometry and related information  "
   ]
  },
  {
   "cell_type": "code",
   "execution_count": null,
   "id": "c43c8e5d",
   "metadata": {
    "jupyter": {
     "source_hidden": true
    }
   },
   "outputs": [],
   "source": [
    "countriesURL = \"https://raw.githubusercontent.com/johan/world.geo.json/master/countries.geo.json\""
   ]
  },
  {
   "cell_type": "code",
   "execution_count": null,
   "id": "57c33117-ad59-4247-bb8e-c0984467eeff",
   "metadata": {
    "jupyter": {
     "source_hidden": true
    }
   },
   "outputs": [],
   "source": [
    "import requests\n",
    "response = requests.get(countriesURL)\n",
    "countries = response.json()\n",
    "countries"
   ]
  },
  {
   "cell_type": "code",
   "execution_count": null,
   "id": "de514987-d7fe-434c-85f1-51a77d863381",
   "metadata": {
    "jupyter": {
     "source_hidden": true
    }
   },
   "outputs": [],
   "source": [
    "df_countries = pd.DataFrame(countries[\"features\"]).head()"
   ]
  },
  {
   "cell_type": "code",
   "execution_count": null,
   "id": "3cc22551-2625-4aa4-8a1e-38815e8c8fed",
   "metadata": {
    "jupyter": {
     "source_hidden": true
    }
   },
   "outputs": [],
   "source": [
    "df_gapminder = px.data.gapminder().query(\"year==2007\").reset_index(drop=True)\n",
    "df_gapminder.head()"
   ]
  },
  {
   "cell_type": "code",
   "execution_count": null,
   "id": "51ea4b8a",
   "metadata": {
    "jupyter": {
     "source_hidden": true
    }
   },
   "outputs": [],
   "source": [
    "px.choropleth(\n",
    "    df_gapminder,\n",
    "    geojson=countriesURL,\n",
    "    featureidkey='properties.name',\n",
    "    locations='country',\n",
    "    color='lifeExp',\n",
    "    color_continuous_scale='Reds'\n",
    ").update_geos(fitbounds=\"locations\", visible=True, \n",
    "              lataxis_showgrid=True, lonaxis_showgrid=True, \n",
    "               #projection_type=\"mercator\"\n",
    "             ).update_layout(margin={\"r\":0,\"t\":0,\"l\":0,\"b\":0},\n",
    "               #coloraxis=dict(colorbar=dict(orientation='h', y=1, len=0.5)))\n",
    "                coloraxis=dict(colorbar=dict(x = 0.8,len=0.9)))"
   ]
  },
  {
   "cell_type": "code",
   "execution_count": null,
   "id": "99c2ad75-d009-4595-a298-bc2a06687ac4",
   "metadata": {
    "jupyter": {
     "source_hidden": true
    }
   },
   "outputs": [],
   "source": [
    "px.choropleth(\n",
    "    df_gapminder,\n",
    "    geojson=countriesURL,\n",
    "    featureidkey='id',\n",
    "    locations='iso_alpha',\n",
    "    color='lifeExp',\n",
    "    color_continuous_scale='Reds'\n",
    ").update_geos(fitbounds=\"locations\", visible=True, \n",
    "              lataxis_showgrid=True, lonaxis_showgrid=True, \n",
    "             ).update_layout(margin={\"r\":0,\"t\":0,\"l\":0,\"b\":0},\n",
    "               #coloraxis=dict(colorbar=dict(orientation='h', y=1, len=0.5)))\n",
    "                coloraxis=dict(colorbar=dict(x = 0.8,len=0.9)))"
   ]
  },
  {
   "cell_type": "code",
   "execution_count": null,
   "id": "dc905050-a7f1-44b0-91c8-b2cf0423d0e5",
   "metadata": {
    "jupyter": {
     "source_hidden": true
    }
   },
   "outputs": [],
   "source": [
    "projections =  [ \"albers\" ,  \"azimuthal equal area\" , \"conic equal area\" , \"conic equidistant\" , \"cylindrical equal area\" , \"equirectangular\" , \"mercator\" , \"natural earth\" , \"orthographic\" , \"robinson\" , \"stereographic\" , \"times\" , \"transverse mercator\" , \"winkel tripel\"]"
   ]
  },
  {
   "cell_type": "code",
   "execution_count": null,
   "id": "4801ad27-78d3-405a-a330-05014dcf040a",
   "metadata": {
    "jupyter": {
     "source_hidden": true
    }
   },
   "outputs": [],
   "source": [
    "fig=px.choropleth(\n",
    "    df_gapminder,\n",
    "    geojson=countriesURL,\n",
    "    featureidkey='id',\n",
    "    locations='iso_alpha',\n",
    "    color='lifeExp',\n",
    "    color_continuous_scale='Reds'\n",
    ")\n",
    "for projection in projections:\n",
    "    \n",
    "    fig.update_geos(projection_type=projection).update_layout(margin={\"r\":0,\"l\":0,\"b\":0},title={\"text\":\"Projection used: \"+projection})\n",
    "               #coloraxis=dict(colorbar=dict(orientation='h', y=1, len=0.5)))\n",
    "               # coloraxis=dict(colorbar=dict(x = 0.8,len=0.9)))\n",
    "    fig.show()"
   ]
  },
  {
   "cell_type": "markdown",
   "id": "5e98dec2-7a78-4267-9ba0-db509352d6bd",
   "metadata": {},
   "source": [
    "### Bubble map"
   ]
  },
  {
   "cell_type": "code",
   "execution_count": null,
   "id": "aa88c906-92f0-4c27-b315-62da8aed4844",
   "metadata": {
    "jupyter": {
     "source_hidden": true
    }
   },
   "outputs": [],
   "source": [
    "df_LatLonPop = pd.read_csv(\"https://gist.githubusercontent.com/ofou/df09a6834a8421b4f376c875194915c9/raw/355eb56e164ddc3cd1a9467c524422cb674e71a9/country-capital-lat-long-population.csv\")\n",
    "df_LatLonPop.head()"
   ]
  },
  {
   "cell_type": "code",
   "execution_count": null,
   "id": "3d246bf9-e09a-4fa2-8fe4-a6a8c17aa8f7",
   "metadata": {
    "jupyter": {
     "source_hidden": true
    }
   },
   "outputs": [],
   "source": [
    "fig = px.scatter_geo(df_LatLonPop, \n",
    "        lon = \"Longitude\",\n",
    "        lat = \"Latitude\",\n",
    "        size=\"Population\",\n",
    "        hover_name=\"Capital City\",\n",
    "        title = \"Population of World Capitals\"\n",
    "        #projection=\"natural earth\"\n",
    ").update_layout(margin={\"r\":0,\"t\":0,\"l\":0,\"b\":0})\n",
    "fig.show()"
   ]
  },
  {
   "cell_type": "markdown",
   "id": "14a660b0-04fb-4389-8e65-efc818396c1e",
   "metadata": {},
   "source": [
    "### Mapbox (raster data)"
   ]
  },
  {
   "cell_type": "code",
   "execution_count": null,
   "id": "8cefe4d8-6f73-4388-9190-b5fe6e443a95",
   "metadata": {
    "jupyter": {
     "source_hidden": true
    },
    "scrolled": true
   },
   "outputs": [],
   "source": [
    "px.scatter_mapbox(df_LatLonPop,\n",
    "        lon = \"Longitude\",\n",
    "        lat = \"Latitude\",\n",
    "        size=\"Population\",\n",
    "        hover_name=\"Capital City\",\n",
    "        title = \"Population of World Capitals\",\n",
    "        mapbox_style=\"carto-positron\",\n",
    "        zoom=1, \n",
    "        center = {\"lat\": 20.5937, \"lon\": 78.9629},\n",
    "        opacity=0.55,\n",
    ").update_layout(margin={\"r\":0,\"l\":0,\"b\":0})"
   ]
  },
  {
   "cell_type": "code",
   "execution_count": null,
   "id": "718e6eda-7c05-4323-9503-ccee8813bb2e",
   "metadata": {
    "jupyter": {
     "source_hidden": true
    }
   },
   "outputs": [],
   "source": [
    "fig=px.scatter_mapbox(df_LatLonPop,\n",
    "        lon = \"Longitude\",\n",
    "        lat = \"Latitude\",\n",
    "        size=\"Population\",\n",
    "        hover_name=\"Capital City\",\n",
    "        title = \"Population of World Capitals\",\n",
    "        mapbox_style=\"carto-positron\",\n",
    "        color_discrete_sequence=[\"fuchsia\"],\n",
    "        zoom=1, \n",
    "        center = {\"lat\": 20.5937, \"lon\": 78.9629},\n",
    "        opacity=0.55,\n",
    ")\n",
    "fig.update_layout(margin={\"r\":0,\"l\":0,\"b\":0})\n",
    "for style in [\"open-street-map\", \"carto-positron\", \"carto-darkmatter\"]:\n",
    "    fig.update_layout(#mapbox_style=style,\n",
    "        title={\"text\":\"Mapbox style used:\"+style},\n",
    "        mapbox={\n",
    "            \"style\": style,\n",
    "            #\"accesstoken\":mapbox_access_token\n",
    "        }\n",
    "    )\n",
    "    fig.show()"
   ]
  },
  {
   "cell_type": "code",
   "execution_count": null,
   "id": "b021ed07-9275-43eb-945e-fec8f8e75229",
   "metadata": {
    "jupyter": {
     "source_hidden": true
    }
   },
   "outputs": [],
   "source": [
    "px.choropleth_mapbox(\n",
    "    df_gapminder,\n",
    "    geojson=countriesURL,\n",
    "    featureidkey='id',\n",
    "    locations='iso_alpha',\n",
    "    color='pop',\n",
    "    mapbox_style=\"carto-positron\",\n",
    "    zoom=0, \n",
    "    opacity=0.5,\n",
    "    color_continuous_scale='Reds', width=800, height = 500\n",
    ")\n",
    "#.update_layout(margin={\"r\":0,\"t\":0,\"l\":0,\"b\":0},\n",
    "               #coloraxis=dict(colorbar=dict(orientation='h', y=1, len=0.5)))"
   ]
  },
  {
   "cell_type": "markdown",
   "id": "76947ce0-b40d-4ea8-a703-237d0253f491",
   "metadata": {},
   "source": [
    "## Using GeoPandas"
   ]
  },
  {
   "cell_type": "markdown",
   "id": "9a6a8422-13eb-4870-b29c-84b003359ccf",
   "metadata": {},
   "source": [
    "GoePandas prefers geographical geometry data in binary shapefile (.shp) format. \n",
    "For current state, district boundaries you must download shape file from https://onlinemaps.surveyofindia.gov.in/\n",
    "It uses Uses Lambert Conic Conformal mapping.\n",
    "\n",
    "See https://en.wikipedia.org/wiki/Lambert_conformal_conic_projection"
   ]
  },
  {
   "cell_type": "code",
   "execution_count": null,
   "id": "de5be3f3-ba8a-4300-bae5-5125caa67b94",
   "metadata": {
    "jupyter": {
     "source_hidden": true
    }
   },
   "outputs": [],
   "source": [
    "indiaShapeFileURL = \"https://github.com/datameet/maps/raw/master/Survey-of-India-Index-Maps/Boundaries/India-States.shp\"\n",
    "gdf_india = gpd.read_file(indiaShapeFileURL)\n",
    "gdf_india.head()"
   ]
  },
  {
   "cell_type": "code",
   "execution_count": null,
   "id": "287c5691-0795-496e-b0ee-caa5015b99ea",
   "metadata": {
    "jupyter": {
     "source_hidden": true
    }
   },
   "outputs": [],
   "source": [
    "gdf_india.crs"
   ]
  },
  {
   "cell_type": "code",
   "execution_count": null,
   "id": "88c990e4-02b7-4a0b-bd2e-888afafa5f60",
   "metadata": {
    "jupyter": {
     "source_hidden": true
    }
   },
   "outputs": [],
   "source": [
    "gdf_india.plot()"
   ]
  },
  {
   "cell_type": "code",
   "execution_count": null,
   "id": "3b90e407-0085-43a8-acf6-8942da964a80",
   "metadata": {
    "jupyter": {
     "source_hidden": true
    }
   },
   "outputs": [],
   "source": [
    "gdf_india.boundary.plot()"
   ]
  },
  {
   "cell_type": "code",
   "execution_count": null,
   "id": "289c00a0-ef81-43f3-a49d-9701d7035944",
   "metadata": {
    "jupyter": {
     "source_hidden": true
    }
   },
   "outputs": [],
   "source": [
    "temp=gdf_india.copy()\n",
    "temp=temp.to_crs(crs=24378)\n",
    "print(temp.crs)"
   ]
  },
  {
   "cell_type": "code",
   "execution_count": null,
   "id": "2f211d12-c892-4adb-b6b6-39e5e87ce50d",
   "metadata": {
    "jupyter": {
     "source_hidden": true
    }
   },
   "outputs": [],
   "source": [
    "temp1.plot(column=\"shape_area\", legend=\"True\").set_axis_off()"
   ]
  },
  {
   "cell_type": "code",
   "execution_count": null,
   "id": "896107e8-5284-491a-8880-c76f7af99d5d",
   "metadata": {
    "jupyter": {
     "source_hidden": true
    }
   },
   "outputs": [],
   "source": [
    "temp1.plot(column=\"shape_area\", legend=\"True\", cmap='OrRd', legend_kwds={\"label\": \"Shape Area\"},  missing_kwds={\n",
    "        \"color\": \"lightgrey\",\n",
    "        \"edgecolor\": \"red\",\n",
    "        \"hatch\": \"///\",\n",
    "        \"label\": \"Missing values\",\n",
    "    }).set_axis_off()"
   ]
  },
  {
   "cell_type": "code",
   "execution_count": null,
   "id": "b7f1b3f8-7b4a-4b61-9fdd-fe79c09ea2fd",
   "metadata": {
    "jupyter": {
     "source_hidden": true
    }
   },
   "outputs": [],
   "source": []
  },
  {
   "cell_type": "code",
   "execution_count": null,
   "id": "f2accef3-1a22-405e-8e89-75b412df90e4",
   "metadata": {
    "jupyter": {
     "source_hidden": true
    }
   },
   "outputs": [],
   "source": [
    "centroids = temp.copy()\n",
    "centroids.geometry = temp.centroid\n",
    "centroids['size'] = centroids['shape_area'] / 1e9  # to get reasonable plotable number\n",
    "\n",
    "ax = temp1.plot(facecolor='w', edgecolor='k')\n",
    "centroids.plot(markersize='size', ax=ax)"
   ]
  },
  {
   "cell_type": "code",
   "execution_count": null,
   "id": "c52eaa38-7d13-4722-8de3-884105f6f1e7",
   "metadata": {
    "jupyter": {
     "source_hidden": true
    }
   },
   "outputs": [],
   "source": [
    "centroids.head()"
   ]
  },
  {
   "cell_type": "code",
   "execution_count": null,
   "id": "adbb433c-321e-4ad8-ae06-df1b846cbb88",
   "metadata": {
    "jupyter": {
     "source_hidden": true
    }
   },
   "outputs": [],
   "source": [
    "indiamap_json = gdf_india.to_json()"
   ]
  },
  {
   "cell_type": "code",
   "execution_count": null,
   "id": "cd1193c0-fe68-44e5-8502-2997837ca02d",
   "metadata": {
    "jupyter": {
     "source_hidden": true
    }
   },
   "outputs": [],
   "source": [
    "indiamap_json"
   ]
  },
  {
   "cell_type": "code",
   "execution_count": null,
   "id": "631ca0cf-5979-423e-ab7d-bf50e6ba2d2d",
   "metadata": {
    "jupyter": {
     "source_hidden": true
    }
   },
   "outputs": [],
   "source": [
    "gdf_india.to_file(\"output.geo.json\", driver=\"GeoJSON\")"
   ]
  }
 ],
 "metadata": {
  "kernelspec": {
   "display_name": "Python 3 (ipykernel)",
   "language": "python",
   "name": "python3"
  },
  "language_info": {
   "codemirror_mode": {
    "name": "ipython",
    "version": 3
   },
   "file_extension": ".py",
   "mimetype": "text/x-python",
   "name": "python",
   "nbconvert_exporter": "python",
   "pygments_lexer": "ipython3",
   "version": "3.11.4"
  }
 },
 "nbformat": 4,
 "nbformat_minor": 5
}
