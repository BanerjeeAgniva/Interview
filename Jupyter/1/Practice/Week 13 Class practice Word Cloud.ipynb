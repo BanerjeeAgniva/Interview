{
 "cells": [
  {
   "cell_type": "code",
   "execution_count": null,
   "id": "f6706b3a",
   "metadata": {
    "collapsed": true,
    "jupyter": {
     "outputs_hidden": true,
     "source_hidden": true
    }
   },
   "outputs": [],
   "source": [
    "import pandas as pd\n",
    "import plotly.express as px\n",
    "import numpy as np"
   ]
  },
  {
   "cell_type": "code",
   "execution_count": null,
   "id": "f06aafc7",
   "metadata": {
    "collapsed": true,
    "jupyter": {
     "outputs_hidden": true,
     "source_hidden": true
    }
   },
   "outputs": [],
   "source": [
    "#!pip install wordcloud"
   ]
  },
  {
   "cell_type": "code",
   "execution_count": null,
   "id": "544c5577",
   "metadata": {
    "collapsed": true,
    "jupyter": {
     "outputs_hidden": true,
     "source_hidden": true
    }
   },
   "outputs": [],
   "source": [
    "from wordcloud import WordCloud, STOPWORDS"
   ]
  },
  {
   "cell_type": "code",
   "execution_count": null,
   "id": "438c07bc-c622-49ac-8b9a-f23a57dc3c73",
   "metadata": {
    "collapsed": true,
    "jupyter": {
     "outputs_hidden": true,
     "source_hidden": true
    }
   },
   "outputs": [],
   "source": [
    "type(STOPWORDS)"
   ]
  },
  {
   "cell_type": "code",
   "execution_count": null,
   "id": "aa28014a",
   "metadata": {
    "collapsed": true,
    "jupyter": {
     "outputs_hidden": true,
     "source_hidden": true
    }
   },
   "outputs": [],
   "source": [
    "text = '''\n",
    "The following a paragraph from todays news. Not much frequency. But we will try.\n",
    "BITS, Pilani - Hyderabad campus is one of the premier technical \n",
    "and science institutes of higher learning in India.\n",
    "This BITS sprawling campus is built amidst lush greenery spreading over 200 acres of land at Jawahar Nagar, \n",
    "Shameerpet, Hyderabad. Surrounded by natural beauty, the campus is about 70 kilometers away from Rajiv Gandhi International Airport, \n",
    "Shamshabad and 27 kilometers from Secunderabad railway station.\n",
    "'''\n",
    "wordcloud = WordCloud(width = 600, height = 400, background_color = \"white\").generate(text)\n",
    "fig = px.imshow(wordcloud)\n",
    "fig.update_xaxes(showticklabels = False)\n",
    "fig.update_yaxes(showticklabels = False)"
   ]
  },
  {
   "cell_type": "code",
   "execution_count": null,
   "id": "3bffda30",
   "metadata": {
    "collapsed": true,
    "jupyter": {
     "outputs_hidden": true,
     "source_hidden": true
    }
   },
   "outputs": [],
   "source": [
    "# install a python image library: PIL\n",
    "#!pip install pillow"
   ]
  },
  {
   "cell_type": "code",
   "execution_count": null,
   "id": "3e23e729",
   "metadata": {
    "collapsed": true,
    "jupyter": {
     "outputs_hidden": true,
     "source_hidden": true
    }
   },
   "outputs": [],
   "source": [
    "from PIL import Image"
   ]
  },
  {
   "cell_type": "code",
   "execution_count": null,
   "id": "8e258c6d",
   "metadata": {
    "collapsed": true,
    "jupyter": {
     "outputs_hidden": true,
     "source_hidden": true
    }
   },
   "outputs": [],
   "source": [
    "mask = np.array(Image.open(\"modi.png\"))"
   ]
  },
  {
   "cell_type": "code",
   "execution_count": null,
   "id": "ecb18774-6315-4c92-af23-25561b6e974e",
   "metadata": {
    "collapsed": true,
    "jupyter": {
     "outputs_hidden": true,
     "source_hidden": true
    }
   },
   "outputs": [],
   "source": [
    "fig = px.imshow(mask)\n",
    "fig.update_xaxes(showticklabels = False)\n",
    "fig.update_yaxes(showticklabels = False)"
   ]
  },
  {
   "cell_type": "code",
   "execution_count": null,
   "id": "e26a3e06",
   "metadata": {
    "collapsed": true,
    "jupyter": {
     "outputs_hidden": true,
     "source_hidden": true
    }
   },
   "outputs": [],
   "source": [
    "ManKiBaat_106th = '''My dear countrymen, Namaskar. Welcome once again to Mann Ki Baat. This episode is taking place at a time when the entire country is enveloped in the fervour of festivities. Heartiest greetings to all of you on the occasion of the festivals.\n",
    "\n",
    "Friends, amid the zeal of the festivities, I wish to commence Mann Ki Baat with a news from Delhi itself. At the beginning of this month, on the occasion of Gandhi Jayanti, Khadi witnessed record sales in Delhi. Here at Connaught Place, at a single Khadi store, in a single day, people purchased goods worth over a crore and a half rupees. The ongoing Khadi Mahotsav this month has broken all its previous sales records. You will be pleased to know of another fact that earlier in the country, whereas the sale of Khadi products could barely touch thirty thousand crore rupees; now this is rising to reach almost 1.25 lakh crore rupees. The rise in the sale of Khadi means its benefit reaches myriad sections across cities and villages. Benefiting from these sales are our weavers, handicraft artisans, our farmers, cottage industries engaged in growing Ayurvedic plants, everyone is getting the benefit of this sale… and, this is the strength of the ‘Vocal for Local’ campaign… gradually the support of all you countrymen is increasing.\n",
    "\n",
    "Friends, today I would like to reiterate one more request to you, and insistently at that! Whenever you travel for tourism; go on a pilgrimage, do buy products made by the local artisans there.\n",
    "\n",
    "In the overall budget of your travel itinerary, do include purchasing local products as an important priority. Be it ten percent, twenty percent, as much as your budget allows, you should spend it on local and spend it only there.\n",
    "\n",
    "Friends, like every time, this time too, in our festivals, our priority should be ‘Vocal for Local’ and let us together fulfill that dream; our dream is ‘Aatmnirbhar Bharat’. This time, let us illuminate homes only with a product which radiates the fragrance of the sweat of one of my countrymen, the talent of a youth of my country… which has provided employment to my countrymen in its making. Whatever be our daily life’s requirements, we shall buy local. But you will have to focus on one more thing, this spirit for Vocal for Local, is not limited only to festival shopping and somewhere I have seen, people buy Diwali diyas and then post ‘Vocal for Local’ on social media – No… not at all, this is just the beginning. We have to move ahead a lot, in our country. Now every necessity of life… everything is available. This vision is not limited to just buying goods from small shopkeepers and street vendors. Today India is becoming the world’s biggest manufacturing hub. Many big brands are manufacturing their products here. If we adopt those products, then Make In India gets a fillip and this too is being ‘Vocal For Local’, and Yes, while buying such products, try to insist on the pride of our country, the UPI digital payment system. Make it a habit in life, and share a selfie with that product, or with that artisan, with me on Namo App and that too through a made in India smartphone. I will share some of those posts on Social Media so that other people can also be inspired to be ‘Vocal for Local’.\n",
    "\n",
    "Friends, when you brighten up your Diwali with products Made In India, Made by Indians; fulfill every little need of your family locally, the sparkle of Diwali will only increase, but in the lives of those artisans, a new Diwali will shine, a dawn of life will rise, their life will become wonderful. Make India self-reliant, keep choosing ‘Make in India’, so that the Diwali of crores of countrymen along with you becomes wonderful, lively, radiant and interesting.\n",
    "\n",
    "My dear countrymen, 31st October is a very special day for all of us. On this day we celebrate the birth anniversary of our Iron Man Sardar Vallabhbhai Patel. We Indians remember him, for many reasons and pay our respects. The biggest reason is – his incomparable role in integrating more than 580 princely states of the country. We know that every year on the 31st of October, the main function related to Unity Day takes place at the Statue of Unity in Gujarat. Apart from this, a very special program is being organized on Kartavya Path. You might remember that recently I had urged you to collect soil from every village, every house in the country. After collecting soil from every house, it was placed in a Kalash and then Amrit Kalash Yatras were organized. This soil collected from every corner of the country, these thousands of Amrit Kalash Yatras are now reaching Delhi. Here in Delhi, that soil will be put in an enormous Bharat Kalash and with this sacred soil, ‘Amrit Vatika’ will be built in Delhi. It will remain as a grand legacy of the Amrit Mahotsav in the heart of the country’s capital. The Azadi Ka Amrit Mahotsav, which has been going on for the last two and a half years across the country, will conclude on the 31st of October. All of you together have made it one of the longest running festivals in the world. Be it honouring our freedom fighters or Har Ghar Tiranga, in the Azadi Ka Amrit Mahotsav, people have lent a new identity to their local history. During this period, wonderful examples of community service have also been observed.\n",
    "\n",
    "Friends, today I am sharing with you another good news, especially to my young sons and daughters, who have the passion, dreams and resolve to do something for the country. This good news is not only for the countrymen, but it is special for you, my young friends. Just two days later, on the 31st of October, the foundation of a very big nationwide organization is being laid and that too on the birth anniversary of Sardar Sahib. The name of this organization is – Mera Yuva Bharat, i.e. My Bharat. My Bharat Organization will provide an opportunity to the youth of India to play an active role in various nation building events. This is a unique effort of integrating the youth power of India in building a developed India.\n",
    "\n",
    "Mera Yuva Bharat’s website My Bharat is also about to be launched. I would urge the youth – I would urge them again and again that all of you Youth of my country, all you sons and daughters of my country, register on MyBharat.gov.in and sign up for various programs. The 31st of October is also the death anniversary of former Prime Minister Smt Indira Gandhi Ji. I also pay my heartfelt tribute to her.\n",
    "\n",
    "My family members, our literature is one of the best mediums to deepen the sentiment of the spirit of Ek Bharat Shreshtha Bharat. I would like to share with you two very inspiring endeavours related to the glorious heritage of Tamil Nadu. I have got the opportunity to know about the famous Tamil writer Sister ShivaShankari Ji. She has done a project – Knit India, through literature. It means – to knit over a common thread and connect the country through literature. She has been working on this project for the last 16 years. Through this project she has translated literature written in 18 Indian languages. She travelled across the country several times, from Kanyakumari to Kashmir and from Imphal to Jaisalmer, so that she could interview writers and poets from different states. Shiv Shankari Ji travelled to different places and published the accounts along with travel commentaries. This is in both Tamil and English languages. There are four big volumes in this project and each volume is dedicated to a different part of India. I am proud of the strength of her resolve.\n",
    "\n",
    "Friends, the work of Thiru A. K. Perumal Ji of Kanyakumari is also very inspiring. He has done a commendable job of preserving the story telling tradition of Tamil Nadu. He has been engaged in this mission for the last 40 years. For this, he travels to different parts of Tamil Nadu, discovers the folk art forms and makes them a part of his book. You will be surprised to know that till now he has written around a 100 such books. Apart from this, Perumal Ji also has another passion. He likes to research on the Temple culture of Tamil Nadu. He has also done a lot of research on leather puppets, which is benefitting the local folk artists there. Shiv Shankari Ji and A.K. Perumal Ji’s efforts are exemplary to everyone. India is proud of every such effort to preserve her culture, which not only strengthens our national unity but also enhances the glory of the country, the honour of the country… infact, everything.\n",
    "\n",
    "My family members, the entire country will celebrate the ‘Janjaatiya Gaurav Diwas’ on the 15th of November. This special day is associated with the birth anniversary of Bhagwan Birsa Munda. Bhagwan Birsa Munda dwells in the hearts of all of us. We can learn from his life what true courage is and what it means to stand firm on one’s resolve. He never accepted foreign rule. He envisioned a society where there was no room for injustice. He wanted that every person should be entitled to a life of dignity and equality. Bhagwan Birsa Munda always emphasized on living in harmony with nature. Even today we can say that our tribal brothers and sisters are dedicated in every way to the care and conservation of nature. For all of us, these endeavours of our Adivasi brothers and sisters is a great inspiration.\n",
    "\n",
    "Friends, tomorrow i.e. the 30th of October is also the death anniversary of Govind Guru Ji. Govind Guru Ji has had a very special significance in the lives of the tribal and deprived communities of Gujarat and Rajasthan. I also pay my tribute to Govind Guru Ji. In the month of November we solemnly observe the anniversary of the Mangadh massacre. I salute all the children of Ma Bharati who were martyred in that massacre.\n",
    "\n",
    "Friends, India has a rich history of tribal warriors. It was on this very land of India that the great Tilka Manjhi sounded the trumpet against injustice. From this very land Sidhho – Kanhu raised the voice for equality. We are proud that the warrior Tantiya Bheel was born on our soil. We remember Shaheed Veer Narayan Singh with full reverence, who stood by his people in difficult circumstances.\n",
    "\n",
    "Be it Veer RamJi Gond, Veer Gundadhur, Bheema Nayak, their courage still inspires us. The country still remembers the spirit that Alluri Sitaram Raju instilled in the tribal brothers and sisters. We also get a lot of inspiration from freedom fighters like Kiang Nobang and Rani Gaidinliu in the North East. It is from the tribal community that the country got women brave hearts like RajMohini Devi and Rani Kamlapati. The country is currently celebrating the 500th Birth Anniversary of Rani Durgavati Ji, who inspired the tribal society. I hope that more and more youth of the country will know about the tribal personalities of their region and derive inspiration from them. The country is grateful to its tribal society, which has always held the self-respect and upliftment of the nation paramount.\n",
    "\n",
    "My dear countrymen, during this festive season, at this time in the country, the flag of sports is also flying high. Recently, after the Asian Games, Indian Players also achieved tremendous success in the Para Asian Games. India has created a new history by winning 111 medals in these games. I congratulate all the athletes participating in the Para Asian Games.\n",
    "\n",
    "Friends, I wish to draw your attention to the Special Olympics World Summer Games, as well. It was organized in Berlin. This competition is a wonderful opportunity for our athletes with intellectual disabilities, to display their capabilities. In this competition, the Indian Team won 200 medals including 75 Gold Medals. Be it Roller Skating, Beach Volleyball, Football or Lawn Tennis, Indian players won a flurry of medals. The life journey of these medal winners has been quite inspiring. Haryana’s Ranveer Saini has won the Gold Medal in Golf. For Ranveer, who has been suffering from autism since childhood, no challenge could reduce his passion for Golf. His mother even says that everyone in the family has now become a golfer. 16 year old T-Vishal from Puducherry won 4 medals. Siya Sarode of Goa won 4 medals including 2 Gold Medals in power lifting. Even after losing her mother at the age of 9, she did not let herself get discouraged. Anurag Prasad, resident of Durg Chhattisgarh, has won 3 Gold and 1 Silver medal in power lifting. Another such inspiring story is that of Indu Prakash of Jharkhand, who has won 2 medals in cycling. Despite being from a very ordinary family, Indu never let poverty become an obstacle in the path of her success. I am confident that the success of Indian players in these games will also inspire other children with intellectual disabilities and their families. I also urge you all to go with your family and visit such children in your village, or in the neighbourhood, who have taken part in these games or have emerged victorious. Congratulate them. And spend some moments with those children. You will undergo a new experience. God has instilled within them a certain strength that you will also get a chance to observe and feel. Do visit.\n",
    "\n",
    "My family members, all of you must have certainly heard of the pilgrimage site in Gujarat, Amba Ji Mandir. This is an important Shakti Peeth, where a large number of devotees from India and abroad arrive to have a Darshan of Ma Ambe. Here on the way to Gabbar Parvat, you will be able to see sculptures of various Yoga postures and Asanas. Do you know what is special about these statues? Actually these are sculptures made from scrap; in a way, made of junk and which are very amazing. That means these statues have been made from used items that have been thrown away as scrap. Along with the darshan of Mother Goddess at Amba Ji Shakti Peeth, these statues have also become the center of attraction for the devotees. Looking at the success of this effort, a suggestion is also coming to my mind. There are many people in our country who can make such artefacts from waste. I request the Gujarat government to start a competition and invite such people. This endeavour, along with enhancing the attraction value of Gabbar Parvat, will also inspire people for the ‘Waste to Wealth’ campaign across the country.\n",
    "\n",
    "Friends, whenever it comes to Swachh Bharat and ‘Waste To Wealth’, we see countless examples from every corner of the country. A school named Akshar Forum in Kamrup Metropolitan District of Assam is relentlessly performing the task of inculcating Sanskar & values and values of sustainable development in children. The students studying here collect plastic waste every week, which is used in making items like eco-friendly bricks and key chains. Here students are also taught to make products from recycling and plastic waste. This awareness towards the environment at an early age will go a long way in making these children dutiful citizens of the country.\n",
    "\n",
    "My family members, today there is no area of life where we are not able to see the capacity potential of woman power. In this era, when their achievements are being appreciated everywhere, we also have to remember a woman saint who showed the power of Bhakti, whose name is recorded in the golden annals of history. This year the country is celebrating the 525th birth anniversary of the great saint Mirabai. She has been an inspiring force for people across the country for many reasons. If someone is interested in music, she is a great example of dedication towards music; if someone is a lover of poetry, Meerabai’s bhajans, immersed in devotion, give one an entirely different joy; if someone believes in divine power, Mirabai’s rapt absorption in Shri Krishna can become a great inspiration for that person. Mirabai considered Saint Ravidas as her guru. She also used to say-\n",
    "\n",
    "Guru Miliya Raidas, Dinhi Gyan ki Gutki.\n",
    "\n",
    "Mirabai is still a source of inspiration for the mothers, sisters and daughters of the country. Even during that period, she listened to her inner voice and stood against conservative notions. Even as a saint, she inspires us all. She came forward to strengthen Indian society and culture when the country was facing many types of invasions. We come to know from the lifetime of Mirabai how much strength there is in simplicity and modesty. I bow to Sant Mirabai.\n",
    "\n",
    "My dear family members, that’s all this time in ‘Mann Ki Baat’. Every interaction with all of you fills me up with new energy. Hundreds of stories related to hope and positivity keep reaching me in your messages. I again urge you to emphasize on Aatma Nirbhar Bharat campaign. Buy local products, be Vocal for Local. Just as you keep your houses clean, keep your locality and city clean. And you know, on the 31st of October, the birth anniversary of Sardar Saheb, the country celebrates it as Unity Day; Run for Unity programs are organized at many places in the country. You too should organize the Run for Unity Programs on the 31st of October. You should also join in large numbers and strengthen the resolve of unity. Once again, I extend many best wishes for the upcoming festivals. I wish you all celebrate with joy, with your family; stay healthy, stay happy. And yes, at the time of Diwali, no such mistake should be made that any incidents of fire may occur. If someone’s life is in danger then you must take care; take care of yourself, and also take care of the entire area.\n",
    "\n",
    "Many best wishes.\n",
    "\n",
    "Thank you very much.\n",
    "'''\n",
    "wordcloud = WordCloud(mask = mask, background_color = \"white\").generate(ManKiBaat_106th)\n",
    "fig = px.imshow(wordcloud, height=800)\n",
    "fig.update_xaxes(showticklabels = False)\n",
    "fig.update_yaxes(showticklabels = False)"
   ]
  },
  {
   "cell_type": "code",
   "execution_count": null,
   "id": "7c747573-944a-4b4d-bb52-a0d3f9e4fffa",
   "metadata": {
    "collapsed": true,
    "jupyter": {
     "outputs_hidden": true,
     "source_hidden": true
    }
   },
   "outputs": [],
   "source": [
    "#Using Beautiful soup to extract text from web page/\n",
    "import requests\n",
    "from bs4 import BeautifulSoup\n",
    "url = \"https://www.pmindia.gov.in/en/news_updates/pms-address-in-the-105th-episode-of-mann-ki-baat/\"\n",
    "response = requests.get(url)\n",
    "page = BeautifulSoup(response.content, 'html.parser')\n",
    "#page_content_div = page.find_all(\"div\",class_= \"page-content\")\n",
    "page_content_div = page.find(\"body\")\n",
    "paragraphs = page_content_div.find_all(\"p\")\n",
    "ManKiBaat_105th = \"\"\n",
    "for paragraph in paragraphs[2:]:\n",
    "    ManKiBaat_105th = ManKiBaat_105th + \" \" +paragraph.get_text()\n",
    "#ManKiBaat1"
   ]
  },
  {
   "cell_type": "raw",
   "id": "eee75dbb-4199-46c2-8b62-d708ca2ad17f",
   "metadata": {},
   "source": [
    "#!pip install nltk\n",
    "import nltk\n",
    "nltk.download('stopwords')\n",
    "from nltk.corpus import stopwords\n",
    "stopwords.words('english')"
   ]
  },
  {
   "cell_type": "code",
   "execution_count": null,
   "id": "7f0f5281-13bb-4a1e-b89e-2e2ea6f76ffa",
   "metadata": {
    "collapsed": true,
    "jupyter": {
     "outputs_hidden": true,
     "source_hidden": true
    }
   },
   "outputs": [],
   "source": [
    "indiaMask = np.array(Image.open(\"indiaMask1.png\"))\n",
    "fig = px.imshow(indiaMask, height=600)\n",
    "fig.update_xaxes(showticklabels = False)\n",
    "fig.update_yaxes(showticklabels = False)"
   ]
  },
  {
   "cell_type": "code",
   "execution_count": null,
   "id": "31a9d428",
   "metadata": {
    "collapsed": true,
    "jupyter": {
     "outputs_hidden": true,
     "source_hidden": true
    }
   },
   "outputs": [],
   "source": [
    "wordcloud = WordCloud(mask = indiaMask, stopwords = STOPWORDS, background_color = \"white\").generate(ManKiBaat_105th)\n",
    "fig = px.imshow(wordcloud, height=600)\n",
    "fig.update_xaxes(showticklabels = False)\n",
    "fig.update_yaxes(showticklabels = False)"
   ]
  },
  {
   "cell_type": "code",
   "execution_count": null,
   "id": "7cb9d1be",
   "metadata": {
    "collapsed": true,
    "jupyter": {
     "outputs_hidden": true,
     "source_hidden": true
    }
   },
   "outputs": [],
   "source": []
  }
 ],
 "metadata": {
  "kernelspec": {
   "display_name": "Python 3 (ipykernel)",
   "language": "python",
   "name": "python3"
  },
  "language_info": {
   "codemirror_mode": {
    "name": "ipython",
    "version": 3
   },
   "file_extension": ".py",
   "mimetype": "text/x-python",
   "name": "python",
   "nbconvert_exporter": "python",
   "pygments_lexer": "ipython3",
   "version": "3.11.4"
  }
 },
 "nbformat": 4,
 "nbformat_minor": 5
}
